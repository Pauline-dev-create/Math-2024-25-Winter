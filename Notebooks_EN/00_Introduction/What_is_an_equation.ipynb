{
  "cells": [
    {
      "cell_type": "markdown",
      "metadata": {
        "id": "view-in-github",
        "colab_type": "text"
      },
      "source": [
        "<a href=\"https://colab.research.google.com/github/Pauline-dev-create/Math-2024-25-Winter/blob/main/Notebooks_EN/00_Introduction/What_is_an_equation.ipynb\" target=\"_parent\"><img src=\"https://colab.research.google.com/assets/colab-badge.svg\" alt=\"Open In Colab\"/></a>"
      ]
    },
    {
      "cell_type": "markdown",
      "metadata": {
        "id": "0JP_BDQbkoC6"
      },
      "source": [
        "## Definition of an Equation\n",
        "\n",
        "An **equation** in mathematics is a formal expression that states that two values or expressions are equal. It consists of two parts: the left-hand side and the right-hand side, separated by an equals sign \"=\".\n",
        "\n",
        "Solving equations involves finding the values of the variables (called unknowns) that make the equation true.\n",
        "\n",
        "\n",
        "**Example 1**\n",
        "\n",
        "Consider the equation $2x + 3 = 7$. In this case, we have one variable $x$. When solving the equation, we want to find the value of $x$ for which the left-hand side is equal to the right-hand side. The solution of the equation is the set\n",
        "\n",
        "$$\n",
        "\\{x \\in \\mathbb{R} : 2x + 3 = 7\\} = \\{x \\in \\mathbb{R} : x = 2\\}= \\{2\\}\n",
        "$$\n",
        "\n",
        "where\n",
        "\n",
        "1. **$\\{x \\in \\mathbb{R} : 2x + 3 = 7\\}$**  \n",
        "   Read as:  \n",
        "   \"The set of all $x$ belonging to real numbers for which $2x + 3 = 7$.\"\n",
        "\n",
        "2. **$\\{x \\in \\mathbb{R} : x = 2\\}$**  \n",
        "   Read as:  \n",
        "   \"The set of all $x$ belonging to real numbers for which $x = 2$.\"\n",
        "\n",
        "3. **$\\{2\\}$**  \n",
        "   Read as:  \n",
        "   \"The set containing only the number 2.\"\n",
        "\n",
        "Thus, the entire construction shows that the solution to the equation $2x + 3 = 7$ is the number $x = 2$, which we write as the singleton set $\\{2\\}$.\n",
        "\n",
        "\n",
        "**Example 2**\n",
        "\n",
        "Consider the equation $x^2 - 4 = 0$. In this case, we have one variable $x$. When solving the equation, we want to find the value of $x$ for which the left-hand side is equal to the right-hand side. The solution of the equation is the set\n",
        "\n",
        "$$\n",
        "\\{x \\in \\mathbb{R} : x^2 - 4 = 0\\}= \\{x \\in \\mathbb{R} : x^2 = 4\\} = \\{x \\in \\mathbb{R} : x = 2 \\lor x = -2\\} = \\{2, -2\\}\n",
        "$$\n",
        "\n",
        "where\n",
        "\n",
        "1. **$\\{x \\in \\mathbb{R} : x^2 - 4 = 0\\}$**  \n",
        "   Read as:  \n",
        "   \"The set of all $x$ belonging to real numbers for which $x^2 - 4 = 0$.\"\n",
        "\n",
        "2. **$\\{x \\in \\mathbb{R} : x^2 = 4\\}$**  \n",
        "   Read as:  \n",
        "   \"The set of all $x$ belonging to real numbers for which $x^2 = 4$.\"\n",
        "\n",
        "3. **$\\{x \\in \\mathbb{R} : x = 2 \\lor x = -2\\}$**  \n",
        "   Read as:  \n",
        "   \"The set of all $x$ belonging to real numbers for which $x = 2$ or $x = -2$.\"\n",
        "\n",
        "4. **$\\{2, -2\\}$**  \n",
        "   Read as:  \n",
        "   \"The set containing the numbers 2 and -2.\"\n",
        "\n",
        "Thus, the entire construction shows that the solution to the equation $x^2 - 4 = 0$ is the numbers $x = 2$ and $x = -2$, which we write as the set $\\{2, -2\\}$.\n",
        "\n",
        "\n",
        "**Example 3**\n",
        "\n",
        "Consider the line given by the equation $y = 2x + 1$. In this case, we have two variables $x$ and $y$. When solving the equation, we want to find the values of $x$ and $y$ for which the left-hand side is equal to the right-hand side. The solution of the equation is the set\n",
        "\n",
        "$$\n",
        "\\{(x, y) \\in \\mathbb{R}^2 : (x \\in \\mathbb{R}) \\land (y = 2x + 1)\\} = \\{(x, 2x + 1) : x \\in \\mathbb{R}\\}\n",
        "$$\n",
        "\n",
        "where\n",
        "\n",
        "1. **$\\{(x, y) \\in \\mathbb{R}^2 : (x \\in \\mathbb{R}) \\land (y = 2x + 1)\\}$**  \n",
        "   Read as:  \n",
        "   \"The set of all pairs $(x, y)$ belonging to the plane $\\mathbb{R}^2$, where $x$ is a real number and $y = 2x + 1$.\"\n",
        "\n",
        "2. **$\\{(x, 2x + 1) : x \\in \\mathbb{R}\\}$**  \n",
        "   Read as:  \n",
        "   \"The set of all pairs of the form $(x, 2x + 1)$, where $x$ belongs to real numbers.\"\n",
        "\n",
        "Thus, the entire construction shows that the set of points $(x, y)$ that satisfy the equation $y = 2x + 1$ can be described as the set of pairs of the form $(x, 2x + 1)$, where $x$ is a real number.\n",
        "\n",
        "\n",
        "**Example 4**\n",
        "\n",
        "Sometimes we deal with implicit equations $F(x,y)$ that cannot be written in the form $y = f(x)$ or $x = f(y)$. Solving such an equation, as above, involves finding all pairs $(x, y)$ that satisfy the equation $F(x, y)$, which we write as\n",
        "\n",
        "$$\n",
        "\\{(x, y) \\in \\mathbb{R}^2 : F(x, y) = 0\\}\n",
        "$$\n",
        "\n",
        "The equation of a circle $x^2 + y^2 = 1$ is an example of an implicit equation. Let's find its solution. Consider the following equalities\n",
        "\n",
        "$$\n",
        "\\begin{cases}\n",
        "y_1=+\\sqrt{1-x^2}\\quad \\text{where } x\\in[-1,1]\\\\\n",
        "y_2=-\\sqrt{1-x^2}\\quad \\text{where } x\\in[-1,1]\\\\\n",
        "\\end{cases}\n",
        "$$\n",
        "\n",
        "We see that $y_1^2 = 1 - x^2$ and $y_2^2 = 1 - x^2$. This means that $y_1$ and $y_2$ satisfy the equation $x^2 + y^2 = 1$. Hence, the solution to the equation $x^2 + y^2 = 1$ is the set\n",
        "\n",
        "$$\n",
        "\\{(x, y) \\in \\mathbb{R}^2 : x^2 + y^2 = 1\\} = \\{(x, \\sqrt{1-x^2}) : x \\in [-1, 1]\\}\\cup\\{(x,-\\sqrt{1-x^2}) : x \\in [-1, 1]\\}\n",
        "$$\n",
        "\n",
        "1. **$\\{(x, y) \\in \\mathbb{R}^2 : x^2 + y^2 = 1\\}$**  \n",
        "   Read as:  \n",
        "   \"The set of all pairs $(x, y)$ belonging to the plane $\\mathbb{R}^2$, for which $x^2 + y^2 = 1$. This is the equation of a circle with radius 1 and center at $(0, 0)$.\"\n",
        "\n",
        "2. **$\\{(x, \\sqrt{1 - x^2}) : x \\in [-1, 1]\\}$**  \n",
        "   Read as:  \n",
        "   \"The set of all pairs of the form $(x, \\sqrt{1 - x^2})$, where $x$ belongs to the interval $[-1, 1]$. This is the upper semicircle.\"\n",
        "\n",
        "3. **$\\{(x, -\\sqrt{1 - x^2}) : x \\in [-1, 1]\\}$**  \n",
        "   Read as:  \n",
        "   \"The set of all pairs of the form $(x, -\\sqrt{1 - x^2})$, where $x$ belongs to the interval $[-1, 1]$. This is the lower semicircle.\"\n",
        "\n",
        "Thus, the entire construction shows that the set of points $(x, y)$ that satisfy the equation of the circle $x^2 + y^2 = 1$ can be described as the union of the sets: the upper semicircle $\\{(x, \\sqrt{1 - x^2})\\}$ and the lower semicircle $\\{(x, -\\sqrt{1 - x^2})\\}$, where $x$ belongs to the interval $[-1, 1]$.\n",
        "\n",
        "# Now we will see how we can manipulate equations in Python"
      ]
    },
    {
      "cell_type": "markdown",
      "source": [],
      "metadata": {
        "id": "33fVyX7Gk0M-"
      }
    },
    {
      "cell_type": "code",
      "execution_count": null,
      "metadata": {
        "id": "YIKFFzkZkoC-",
        "outputId": "a42539b1-6eca-4970-dc1c-8cb6011cb56d",
        "colab": {
          "base_uri": "https://localhost:8080/",
          "height": 164
        }
      },
      "outputs": [
        {
          "output_type": "error",
          "ename": "NameError",
          "evalue": "name 'z' is not defined",
          "traceback": [
            "\u001b[0;31m---------------------------------------------------------------------------\u001b[0m",
            "\u001b[0;31mNameError\u001b[0m                                 Traceback (most recent call last)",
            "\u001b[0;32m<ipython-input-2-c7c56d21c197>\u001b[0m in \u001b[0;36m<cell line: 2>\u001b[0;34m()\u001b[0m\n\u001b[1;32m      1\u001b[0m \u001b[0;31m# If we refer to an undefined variable in a function, Python will return an error\u001b[0m\u001b[0;34m\u001b[0m\u001b[0;34m\u001b[0m\u001b[0m\n\u001b[0;32m----> 2\u001b[0;31m \u001b[0mz\u001b[0m\u001b[0;34m\u001b[0m\u001b[0;34m\u001b[0m\u001b[0m\n\u001b[0m",
            "\u001b[0;31mNameError\u001b[0m: name 'z' is not defined"
          ]
        }
      ],
      "source": [
        "# If we refer to an undefined variable in a function, Python will return an error\n",
        "z"
      ]
    },
    {
      "cell_type": "code",
      "execution_count": null,
      "metadata": {
        "id": "5Imt0czpkoDA",
        "outputId": "3aa2294f-6d5f-44da-9242-098e03b96cf0",
        "colab": {
          "base_uri": "https://localhost:8080/"
        }
      },
      "outputs": [
        {
          "output_type": "execute_result",
          "data": {
            "text/plain": [
              "10"
            ]
          },
          "metadata": {},
          "execution_count": 3
        }
      ],
      "source": [
        "# We can define the variable z\n",
        "z = 10 # assign the value 10 to variable z\n",
        "z      # display the value of variable z"
      ]
    },
    {
      "cell_type": "code",
      "execution_count": null,
      "metadata": {
        "id": "k8z__1RkkoDB",
        "outputId": "331b21ec-9abc-4ac8-d323-61223a8578ab",
        "colab": {
          "base_uri": "https://localhost:8080/"
        }
      },
      "outputs": [
        {
          "output_type": "execute_result",
          "data": {
            "text/plain": [
              "11"
            ]
          },
          "metadata": {},
          "execution_count": 4
        }
      ],
      "source": [
        "# We can add 1 to z\n",
        "z = z + 1 # assign the value z+1 to variable z\n",
        "z         # display the value of variable z"
      ]
    },
    {
      "cell_type": "markdown",
      "metadata": {
        "id": "f13dOut9koDB"
      },
      "source": [
        "The problem with this approach is that it does not allow us to manipulate symbols! The above definition assigns a numerical value to the symbol rather than a symbolic one. In Python, we have the `sympy` library available, which allows us to manipulate symbols.\n",
        "\n",
        "Below, we will show some examples of how we can manipulate symbols and equations in Python."
      ]
    },
    {
      "cell_type": "code",
      "execution_count": null,
      "metadata": {
        "id": "CtFYaaG_koDC"
      },
      "outputs": [],
      "source": [
        "# First, we import the sympy library (Symbolic Python)\n",
        "import sympy as sp\n",
        "\n",
        "# Define variables x and y as symbols\n",
        "x, y = sp.symbols('x y')"
      ]
    },
    {
      "cell_type": "code",
      "execution_count": null,
      "metadata": {
        "id": "WpT1m08TkoDC",
        "outputId": "58933751-6f91-4bd2-c420-8b287a3f830b",
        "colab": {
          "base_uri": "https://localhost:8080/",
          "height": 39
        }
      },
      "outputs": [
        {
          "output_type": "execute_result",
          "data": {
            "text/plain": [
              "x"
            ],
            "text/latex": "$\\displaystyle x$"
          },
          "metadata": {},
          "execution_count": 6
        }
      ],
      "source": [
        "x # x is now a symbol"
      ]
    },
    {
      "cell_type": "code",
      "execution_count": null,
      "metadata": {
        "id": "nhQ6kzjEkoDD",
        "outputId": "550a844c-3c93-428b-8cd1-ba56b416f2b0",
        "colab": {
          "base_uri": "https://localhost:8080/",
          "height": 39
        }
      },
      "outputs": [
        {
          "output_type": "execute_result",
          "data": {
            "text/plain": [
              "x + y"
            ],
            "text/latex": "$\\displaystyle x + y$"
          },
          "metadata": {},
          "execution_count": 7
        }
      ],
      "source": [
        "x + y # Python returns x + y as an expression, not a numerical value"
      ]
    },
    {
      "cell_type": "code",
      "execution_count": null,
      "metadata": {
        "id": "JE3MqZ7_koDD",
        "outputId": "2a060882-176e-4b6f-fa3b-ab3c83a62272",
        "colab": {
          "base_uri": "https://localhost:8080/",
          "height": 40
        }
      },
      "outputs": [
        {
          "output_type": "execute_result",
          "data": {
            "text/plain": [
              "(x + y)**2"
            ],
            "text/latex": "$\\displaystyle \\left(x + y\\right)^{2}$"
          },
          "metadata": {},
          "execution_count": 8
        }
      ],
      "source": [
        "# We can perform more complex operations on variables\n",
        "expr1 = (x + y)**2 # assign the expression (x+y)^2 to variable expr1\n",
        "expr1            # display the value of variable expr1"
      ]
    },
    {
      "cell_type": "code",
      "execution_count": null,
      "metadata": {
        "id": "fAsnR7hMkoDE",
        "outputId": "0f18819e-4e31-4b34-c20d-915aa349429d",
        "colab": {
          "base_uri": "https://localhost:8080/",
          "height": 39
        }
      },
      "outputs": [
        {
          "output_type": "execute_result",
          "data": {
            "text/plain": [
              "x**2 + 2*x*y + y**2"
            ],
            "text/latex": "$\\displaystyle x^{2} + 2 x y + y^{2}$"
          },
          "metadata": {},
          "execution_count": 9
        }
      ],
      "source": [
        "# We can expand the above expression\n",
        "sp.expand(expr1) # the expand command expands the expression"
      ]
    },
    {
      "cell_type": "code",
      "execution_count": null,
      "metadata": {
        "id": "RG6OoO0HkoDE",
        "outputId": "1756a497-0992-4b41-a940-162a071738de",
        "colab": {
          "base_uri": "https://localhost:8080/",
          "height": 40
        }
      },
      "outputs": [
        {
          "output_type": "execute_result",
          "data": {
            "text/plain": [
              "(x + y)**5"
            ],
            "text/latex": "$\\displaystyle \\left(x + y\\right)^{5}$"
          },
          "metadata": {},
          "execution_count": 10
        }
      ],
      "source": [
        "# More complex expression\n",
        "expr2 = (x + y)**5 # assign the expression (x+y)^5 to variable expr2\n",
        "expr2          # display the value of variable expr2"
      ]
    },
    {
      "cell_type": "code",
      "execution_count": null,
      "metadata": {
        "id": "tuKN2yr6koDE",
        "outputId": "cb21b0cd-bbd4-4794-c54c-b68746de85f2",
        "colab": {
          "base_uri": "https://localhost:8080/",
          "height": 39
        }
      },
      "outputs": [
        {
          "output_type": "execute_result",
          "data": {
            "text/plain": [
              "x**5 + 5*x**4*y + 10*x**3*y**2 + 10*x**2*y**3 + 5*x*y**4 + y**5"
            ],
            "text/latex": "$\\displaystyle x^{5} + 5 x^{4} y + 10 x^{3} y^{2} + 10 x^{2} y^{3} + 5 x y^{4} + y^{5}$"
          },
          "metadata": {},
          "execution_count": 11
        }
      ],
      "source": [
        "expr2_expanded = sp.expand(expr2) # expand the expression\n",
        "expr2_expanded                    # display the value of variable expr2_expanded"
      ]
    },
    {
      "cell_type": "markdown",
      "source": [],
      "metadata": {
        "id": "K4mv5aZQxLJ4"
      }
    },
    {
      "cell_type": "code",
      "source": [
        "y=1\n"
      ],
      "metadata": {
        "id": "hOQlZkdDxKZF"
      },
      "execution_count": null,
      "outputs": []
    },
    {
      "cell_type": "markdown",
      "source": [],
      "metadata": {
        "id": "Hvak0ZdzxNbC"
      }
    },
    {
      "cell_type": "code",
      "execution_count": null,
      "metadata": {
        "id": "-q-iBiC1koDF",
        "outputId": "44564ee7-6ca0-4718-b233-613e61976e73",
        "colab": {
          "base_uri": "https://localhost:8080/",
          "height": 39
        }
      },
      "outputs": [
        {
          "output_type": "execute_result",
          "data": {
            "text/plain": [
              "y**5 + 10*y**4 + 40*y**3 + 80*y**2 + 80*y + 32"
            ],
            "text/latex": "$\\displaystyle y^{5} + 10 y^{4} + 40 y^{3} + 80 y^{2} + 80 y + 32$"
          },
          "metadata": {},
          "execution_count": 12
        }
      ],
      "source": [
        "# We can substitute specific values into variables, e.g., x=2\n",
        "expr2_expanded.subs(x, 2)  # subs(x, 2) substitutes x=2 into the expression"
      ]
    },
    {
      "cell_type": "markdown",
      "source": [
        "y=1\n",
        "expr2_expanded.subs(y,1)"
      ],
      "metadata": {
        "id": "2vxPAEUTykL4"
      }
    },
    {
      "cell_type": "code",
      "source": [],
      "metadata": {
        "id": "xAydTSsNzC8B"
      },
      "execution_count": null,
      "outputs": []
    },
    {
      "cell_type": "code",
      "source": [],
      "metadata": {
        "id": "vHob21OMyX64"
      },
      "execution_count": null,
      "outputs": []
    },
    {
      "cell_type": "code",
      "source": [],
      "metadata": {
        "id": "e_BfJ4G7ySam"
      },
      "execution_count": null,
      "outputs": []
    },
    {
      "cell_type": "code",
      "execution_count": null,
      "metadata": {
        "id": "wLj73lv9koDF",
        "outputId": "e4460d00-5b9e-421c-bb53-22ee6b249e02",
        "colab": {
          "base_uri": "https://localhost:8080/",
          "height": 39
        }
      },
      "outputs": [
        {
          "output_type": "execute_result",
          "data": {
            "text/plain": [
              "Eq(x**2, 1)"
            ],
            "text/latex": "$\\displaystyle x^{2} = 1$"
          },
          "metadata": {},
          "execution_count": 13
        }
      ],
      "source": [
        "# In sympy, we can define equations!\n",
        "eq1 = sp.Eq(x**2, 1)\n",
        "eq1"
      ]
    },
    {
      "cell_type": "code",
      "execution_count": null,
      "metadata": {
        "id": "AEh8bXnlkoDF",
        "outputId": "42d0820a-b7ae-49b3-9048-d2c0272dae29",
        "colab": {
          "base_uri": "https://localhost:8080/"
        }
      },
      "outputs": [
        {
          "output_type": "execute_result",
          "data": {
            "text/plain": [
              "[-1, 1]"
            ]
          },
          "metadata": {},
          "execution_count": 14
        }
      ],
      "source": [
        "# We can ask for solutions to the equation\n",
        "sol_eq1 = sp.solve(eq1)\n",
        "sol_eq1"
      ]
    },
    {
      "cell_type": "code",
      "execution_count": null,
      "metadata": {
        "id": "eX6NM4cBkoDG",
        "outputId": "b26769d4-ad82-427c-ef81-ca8033296e87",
        "colab": {
          "base_uri": "https://localhost:8080/",
          "height": 37
        }
      },
      "outputs": [
        {
          "output_type": "execute_result",
          "data": {
            "text/plain": [
              "True"
            ],
            "text/latex": "$\\displaystyle \\text{True}$"
          },
          "metadata": {},
          "execution_count": 16
        }
      ],
      "source": [
        "# Check if the first solution satisfies the equation\n",
        "eq1.subs(x, sol_eq1[0]) # substitute the solution into the equation and check if it is satisfied"
      ]
    },
    {
      "cell_type": "code",
      "execution_count": null,
      "metadata": {
        "id": "hxW18U3CkoDG",
        "outputId": "d2d575b3-7ce4-474c-b442-169c7df1084f",
        "colab": {
          "base_uri": "https://localhost:8080/",
          "height": 37
        }
      },
      "outputs": [
        {
          "output_type": "execute_result",
          "data": {
            "text/plain": [
              "True"
            ],
            "text/latex": "$\\displaystyle \\text{True}$"
          },
          "metadata": {},
          "execution_count": 17
        }
      ],
      "source": [
        "# Check if the second solution satisfies the equation\n",
        "eq1.subs(x, sol_eq1[1]) # substitute the solution into the equation and check if it is satisfied"
      ]
    },
    {
      "cell_type": "code",
      "execution_count": null,
      "metadata": {
        "id": "ZM5Yrn2akoDG",
        "outputId": "9c79acd3-790a-495e-c74c-a4f10181d852",
        "colab": {
          "base_uri": "https://localhost:8080/",
          "height": 39
        }
      },
      "outputs": [
        {
          "output_type": "execute_result",
          "data": {
            "text/plain": [
              "Eq(x**2 - 4*x + 3, 0)"
            ],
            "text/latex": "$\\displaystyle x^{2} - 4 x + 3 = 0$"
          },
          "metadata": {},
          "execution_count": 18
        }
      ],
      "source": [
        "# Another example\n",
        "eq2 = sp.Eq(x**2 - 4*x + 3, 0)\n",
        "eq2"
      ]
    },
    {
      "cell_type": "code",
      "execution_count": null,
      "metadata": {
        "id": "U0BujWQnkoDG",
        "outputId": "19cbfe1a-a4ac-435b-989b-ce429a30716a",
        "colab": {
          "base_uri": "https://localhost:8080/"
        }
      },
      "outputs": [
        {
          "output_type": "execute_result",
          "data": {
            "text/plain": [
              "[1, 3]"
            ]
          },
          "metadata": {},
          "execution_count": 19
        }
      ],
      "source": [
        "# Solutions of the equation\n",
        "sol_eq2 = sp.solve(eq2)\n",
        "sol_eq2"
      ]
    },
    {
      "cell_type": "code",
      "execution_count": null,
      "metadata": {
        "id": "Q8LZVHfekoDH",
        "outputId": "1b2c4a37-bd00-4276-fca7-283d4cab848d",
        "colab": {
          "base_uri": "https://localhost:8080/",
          "height": 37
        }
      },
      "outputs": [
        {
          "output_type": "execute_result",
          "data": {
            "text/plain": [
              "True"
            ],
            "text/latex": "$\\displaystyle \\text{True}$"
          },
          "metadata": {},
          "execution_count": 20
        }
      ],
      "source": [
        "# Check the solutions\n",
        "eq2.subs(x, sol_eq2[0]) and eq2.subs(x, sol_eq2[1])"
      ]
    },
    {
      "cell_type": "code",
      "execution_count": null,
      "metadata": {
        "id": "_1zuzp8nkoDH",
        "outputId": "eba6d6ac-7812-4b66-95d7-7d3c8ff24932",
        "colab": {
          "base_uri": "https://localhost:8080/",
          "height": 39
        }
      },
      "outputs": [
        {
          "output_type": "execute_result",
          "data": {
            "text/plain": [
              "Eq(x**2 + 1, 1)"
            ],
            "text/latex": "$\\displaystyle x^{2} + 1 = 1$"
          },
          "metadata": {},
          "execution_count": 21
        }
      ],
      "source": [
        "# Equation with two unknowns\n",
        "eq3 = sp.Eq(x**2 + y**2, 1)\n",
        "eq3"
      ]
    },
    {
      "cell_type": "code",
      "execution_count": null,
      "metadata": {
        "id": "y4urf2qdkoDH",
        "outputId": "d10fb067-be16-4426-aedc-f68bf376359b",
        "colab": {
          "base_uri": "https://localhost:8080/"
        }
      },
      "outputs": [
        {
          "output_type": "execute_result",
          "data": {
            "text/plain": [
              "[]"
            ]
          },
          "metadata": {},
          "execution_count": 22
        }
      ],
      "source": [
        "# Solutions of a quadratic equation with two unknowns\n",
        "sol_eq3 = sp.solve(eq3, y) # solve the equation for y as a function of x\n",
        "sol_eq3"
      ]
    },
    {
      "cell_type": "code",
      "execution_count": null,
      "metadata": {
        "id": "3JQ1y6OqkoDH",
        "outputId": "068a23b6-1ff6-41a6-ebd3-fc024895b47c",
        "colab": {
          "base_uri": "https://localhost:8080/",
          "height": 164
        }
      },
      "outputs": [
        {
          "output_type": "error",
          "ename": "IndexError",
          "evalue": "list index out of range",
          "traceback": [
            "\u001b[0;31m---------------------------------------------------------------------------\u001b[0m",
            "\u001b[0;31mIndexError\u001b[0m                                Traceback (most recent call last)",
            "\u001b[0;32m<ipython-input-23-9347cf1d9967>\u001b[0m in \u001b[0;36m<cell line: 2>\u001b[0;34m()\u001b[0m\n\u001b[1;32m      1\u001b[0m \u001b[0;31m# We can display the solutions of the equation in a more readable way\u001b[0m\u001b[0;34m\u001b[0m\u001b[0;34m\u001b[0m\u001b[0m\n\u001b[0;32m----> 2\u001b[0;31m \u001b[0msol_eq3\u001b[0m\u001b[0;34m[\u001b[0m\u001b[0;36m0\u001b[0m\u001b[0;34m]\u001b[0m\u001b[0;34m\u001b[0m\u001b[0;34m\u001b[0m\u001b[0m\n\u001b[0m",
            "\u001b[0;31mIndexError\u001b[0m: list index out of range"
          ]
        }
      ],
      "source": [
        "# We can display the solutions of the equation in a more readable way\n",
        "sol_eq3[0]"
      ]
    },
    {
      "cell_type": "code",
      "execution_count": null,
      "metadata": {
        "id": "hgagWKhLkoDI"
      },
      "outputs": [],
      "source": [
        "sol_eq3[1]"
      ]
    },
    {
      "cell_type": "code",
      "execution_count": null,
      "metadata": {
        "id": "0zQF-kXFkoDI",
        "outputId": "8a5eeb6a-f48f-4edf-f7ec-37da2db2d837",
        "colab": {
          "base_uri": "https://localhost:8080/",
          "height": 164
        }
      },
      "outputs": [
        {
          "output_type": "error",
          "ename": "IndexError",
          "evalue": "list index out of range",
          "traceback": [
            "\u001b[0;31m---------------------------------------------------------------------------\u001b[0m",
            "\u001b[0;31mIndexError\u001b[0m                                Traceback (most recent call last)",
            "\u001b[0;32m<ipython-input-24-559095272bfa>\u001b[0m in \u001b[0;36m<cell line: 2>\u001b[0;34m()\u001b[0m\n\u001b[1;32m      1\u001b[0m \u001b[0;31m# Check if the solutions satisfy the equation\u001b[0m\u001b[0;34m\u001b[0m\u001b[0;34m\u001b[0m\u001b[0m\n\u001b[0;32m----> 2\u001b[0;31m \u001b[0meq3\u001b[0m\u001b[0;34m.\u001b[0m\u001b[0msubs\u001b[0m\u001b[0;34m(\u001b[0m\u001b[0my\u001b[0m\u001b[0;34m,\u001b[0m \u001b[0msol_eq3\u001b[0m\u001b[0;34m[\u001b[0m\u001b[0;36m0\u001b[0m\u001b[0;34m]\u001b[0m\u001b[0;34m)\u001b[0m \u001b[0;32mand\u001b[0m \u001b[0meq3\u001b[0m\u001b[0;34m.\u001b[0m\u001b[0msubs\u001b[0m\u001b[0;34m(\u001b[0m\u001b[0my\u001b[0m\u001b[0;34m,\u001b[0m \u001b[0msol_eq3\u001b[0m\u001b[0;34m[\u001b[0m\u001b[0;36m1\u001b[0m\u001b[0;34m]\u001b[0m\u001b[0;34m)\u001b[0m\u001b[0;34m\u001b[0m\u001b[0;34m\u001b[0m\u001b[0m\n\u001b[0m",
            "\u001b[0;31mIndexError\u001b[0m: list index out of range"
          ]
        }
      ],
      "source": [
        "# Check if the solutions satisfy the equation\n",
        "eq3.subs(y, sol_eq3[0]) and eq3.subs(y, sol_eq3[1])"
      ]
    },
    {
      "cell_type": "code",
      "execution_count": null,
      "metadata": {
        "id": "dg85Hm5ckoDI"
      },
      "outputs": [],
      "source": [
        "# Set the display mode for plots\n",
        "import matplotlib.pyplot as plt\n",
        "plt.rcParams['figure.figsize'] = [3, 3] # set plot size and aspect_ratio=1"
      ]
    },
    {
      "cell_type": "code",
      "execution_count": null,
      "metadata": {
        "id": "IZSlzikJkoDI"
      },
      "outputs": [],
      "source": [
        "# We can also plot the solutions of the equation on the plane aspect_ratio=1\n",
        "sp.plot_implicit(eq3, (x, -2, 2), (y, -2, 2));"
      ]
    },
    {
      "cell_type": "code",
      "execution_count": null,
      "metadata": {
        "id": "x2s2CogrkoDJ"
      },
      "outputs": [],
      "source": [
        "ellipse = sp.Eq(x**2/4 + y**2, 1)\n",
        "ellipse"
      ]
    },
    {
      "cell_type": "code",
      "execution_count": null,
      "metadata": {
        "id": "iHULLwfYkoDJ"
      },
      "outputs": [],
      "source": [
        "# We can also plot the solutions of the equation on the plane aspect_ratio=1\n",
        "sp.plot_implicit(ellipse, (x, -3, 3), (y, -3, 3));"
      ]
    },
    {
      "cell_type": "code",
      "execution_count": null,
      "metadata": {
        "id": "J-MjTr8mkoDK"
      },
      "outputs": [],
      "source": [
        "# We can also plot several equations on one plot\n",
        "line = sp.Eq(y, 2*x - 1)\n",
        "circle = sp.Eq(x**2 + y**2, 1)\n",
        "\n",
        "# Plotting the circle and ellipse on one plot\n",
        "p1 = sp.plot_implicit(line, (x, -2, 2), (y, -2, 2), show=False)\n",
        "p2 = sp.plot_implicit(circle, (x, -2, 2), (y, -2, 2), show=False)\n",
        "\n",
        "# Add the plots together\n",
        "p1.extend(p2) # \"attach\"\n",
        "p1.show()"
      ]
    },
    {
      "cell_type": "code",
      "execution_count": null,
      "metadata": {
        "id": "alI-o62QkoDK"
      },
      "outputs": [],
      "source": [
        "# Let's see where the circle and the line intersect\n",
        "intersection_points = sp.solve([line, circle])\n",
        "intersection_points"
      ]
    },
    {
      "cell_type": "code",
      "execution_count": null,
      "metadata": {
        "id": "yyzctaZkkoDL",
        "outputId": "a0456e75-b57f-4095-97ae-63aa6fe8827e",
        "colab": {
          "base_uri": "https://localhost:8080/",
          "height": 39
        }
      },
      "outputs": [
        {
          "output_type": "execute_result",
          "data": {
            "text/plain": [
              "Eq(x + 1, 1)"
            ],
            "text/latex": "$\\displaystyle x + 1 = 1$"
          },
          "metadata": {},
          "execution_count": 29
        }
      ],
      "source": [
        "# How to check if two equations are equivalent?\n",
        "\n",
        "# Let's write the same in a different form\n",
        "r1 = sp.Eq(x + y, 1)\n",
        "r1"
      ]
    },
    {
      "cell_type": "code",
      "execution_count": null,
      "metadata": {
        "id": "rJKSxZDekoDL",
        "outputId": "904e3920-910f-45b2-ea7d-8aedb96c98e9",
        "colab": {
          "base_uri": "https://localhost:8080/",
          "height": 39
        }
      },
      "outputs": [
        {
          "output_type": "execute_result",
          "data": {
            "text/plain": [
              "Eq(2*x - 2, -2)"
            ],
            "text/latex": "$\\displaystyle 2 x - 2 = -2$"
          },
          "metadata": {},
          "execution_count": 25
        }
      ],
      "source": [
        "r2 = sp.Eq(2*x - 2, -2*y)\n",
        "r2"
      ]
    },
    {
      "cell_type": "code",
      "execution_count": null,
      "metadata": {
        "id": "C1TdPz2YkoDM",
        "outputId": "a586eb75-a4f3-4ffe-a412-ccb02e0984cc",
        "colab": {
          "base_uri": "https://localhost:8080/",
          "height": 164
        }
      },
      "outputs": [
        {
          "output_type": "error",
          "ename": "NameError",
          "evalue": "name 'r1' is not defined",
          "traceback": [
            "\u001b[0;31m---------------------------------------------------------------------------\u001b[0m",
            "\u001b[0;31mNameError\u001b[0m                                 Traceback (most recent call last)",
            "\u001b[0;32m<ipython-input-28-7c86ad4fae36>\u001b[0m in \u001b[0;36m<cell line: 2>\u001b[0;34m()\u001b[0m\n\u001b[1;32m      1\u001b[0m \u001b[0;31m# We cannot directly compare two equations, but we can check if they are equivalent\u001b[0m\u001b[0;34m\u001b[0m\u001b[0;34m\u001b[0m\u001b[0m\n\u001b[0;32m----> 2\u001b[0;31m \u001b[0mr1\u001b[0m \u001b[0;34m==\u001b[0m \u001b[0mr2\u001b[0m\u001b[0;34m\u001b[0m\u001b[0;34m\u001b[0m\u001b[0m\n\u001b[0m",
            "\u001b[0;31mNameError\u001b[0m: name 'r1' is not defined"
          ]
        }
      ],
      "source": [
        "# We cannot directly compare two equations, but we can check if they are equivalent\n",
        "r1 == r2"
      ]
    },
    {
      "cell_type": "code",
      "execution_count": null,
      "metadata": {
        "id": "pimd0nsMkoDM",
        "outputId": "1f7dde52-714b-46fd-d770-2c14f357a96d",
        "colab": {
          "base_uri": "https://localhost:8080/",
          "height": 182
        }
      },
      "outputs": [
        {
          "output_type": "error",
          "ename": "NameError",
          "evalue": "name 'r1' is not defined",
          "traceback": [
            "\u001b[0;31m---------------------------------------------------------------------------\u001b[0m",
            "\u001b[0;31mNameError\u001b[0m                                 Traceback (most recent call last)",
            "\u001b[0;32m<ipython-input-27-cf5d9a4cb1c3>\u001b[0m in \u001b[0;36m<cell line: 2>\u001b[0;34m()\u001b[0m\n\u001b[1;32m      1\u001b[0m \u001b[0;31m# But if we make an expression\u001b[0m\u001b[0;34m\u001b[0m\u001b[0;34m\u001b[0m\u001b[0m\n\u001b[0;32m----> 2\u001b[0;31m \u001b[0mratio\u001b[0m \u001b[0;34m=\u001b[0m \u001b[0;34m(\u001b[0m\u001b[0mr1\u001b[0m\u001b[0;34m.\u001b[0m\u001b[0mlhs\u001b[0m \u001b[0;34m-\u001b[0m \u001b[0mr1\u001b[0m\u001b[0;34m.\u001b[0m\u001b[0mrhs\u001b[0m\u001b[0;34m)\u001b[0m \u001b[0;34m/\u001b[0m \u001b[0;34m(\u001b[0m\u001b[0mr2\u001b[0m\u001b[0;34m.\u001b[0m\u001b[0mlhs\u001b[0m \u001b[0;34m-\u001b[0m \u001b[0mr2\u001b[0m\u001b[0;34m.\u001b[0m\u001b[0mrhs\u001b[0m\u001b[0;34m)\u001b[0m\u001b[0;34m\u001b[0m\u001b[0;34m\u001b[0m\u001b[0m\n\u001b[0m\u001b[1;32m      3\u001b[0m \u001b[0mratio\u001b[0m\u001b[0;34m\u001b[0m\u001b[0;34m\u001b[0m\u001b[0m\n",
            "\u001b[0;31mNameError\u001b[0m: name 'r1' is not defined"
          ]
        }
      ],
      "source": [
        "# But if we make an expression\n",
        "ratio = (r1.lhs - r1.rhs) / (r2.lhs - r2.rhs)\n",
        "ratio"
      ]
    }
  ],
  "metadata": {
    "kernelspec": {
      "display_name": "Python 3",
      "language": "python",
      "name": "python3"
    },
    "language_info": {
      "codemirror_mode": {
        "name": "ipython",
        "version": 3
      },
      "file_extension": ".py",
      "mimetype": "text/x-python",
      "name": "python",
      "nbconvert_exporter": "python",
      "pygments_lexer": "ipython3",
      "version": "3.11.9"
    },
    "colab": {
      "provenance": [],
      "include_colab_link": true
    }
  },
  "nbformat": 4,
  "nbformat_minor": 0
}