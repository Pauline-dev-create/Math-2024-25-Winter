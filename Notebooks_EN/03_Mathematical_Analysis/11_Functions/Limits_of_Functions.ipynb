{
  "nbformat": 4,
  "nbformat_minor": 0,
  "metadata": {
    "colab": {
      "provenance": [],
      "authorship_tag": "ABX9TyPV8qnPUNq9swyZeQ9C2R6C",
      "include_colab_link": true
    },
    "kernelspec": {
      "name": "python3",
      "display_name": "Python 3"
    },
    "language_info": {
      "name": "python"
    }
  },
  "cells": [
    {
      "cell_type": "markdown",
      "metadata": {
        "id": "view-in-github",
        "colab_type": "text"
      },
      "source": [
        "<a href=\"https://colab.research.google.com/github/Pauline-dev-create/Math-2024-25-Winter/blob/main/Notebooks_EN/03_Mathematical_Analysis/11_Functions/Limits_of_Functions.ipynb\" target=\"_parent\"><img src=\"https://colab.research.google.com/assets/colab-badge.svg\" alt=\"Open In Colab\"/></a>"
      ]
    },
    {
      "cell_type": "markdown",
      "source": [
        "## Limits of Real Functions\n",
        "\n",
        "### General Limit Formula\n",
        "$\\lim_{x \\to c} f(x) = L$\n",
        "means $ f(x) $ approaches $ L $ as $ x $ approaches $ c $.\n",
        "\n",
        "### Rational Functions at Infinity\n",
        "For $ \\frac{p(x)}{q(x)}$, divide numerator and denominator by the highest power of $x $:\n",
        "- If degree of $ p(x) < $ degree of $ q(x) $: $ \\lim_{x \\to \\infty} = 0 $\n",
        "- If degree of $p(x) = $ degree of $ q(x) $: Limit = ratio of leading coefficients.\n",
        "\n",
        "---"
      ],
      "metadata": {
        "id": "U9BqPcuAXXbX"
      }
    },
    {
      "cell_type": "markdown",
      "source": [
        "## 20. Limits of Real Functions\n",
        "\n",
        "1. Compute:\n",
        "   - $\\displaystyle\\lim_{x \\to \\infty} \\frac{x^3 + 2x^2}{x^4 - 3x^3}$\n",
        "\n",
        "Divide both numerator and denominator by $x^4$, the highest power of $x$ in the denominator:\n",
        "$$\n",
        "\\frac{x^3 + 2x^2}{x^4 - 3x^3} = \\frac{\\frac{x^3}{x^4} + \\frac{2x^2}{x^4}}{\\frac{x^4}{x^4} - \\frac{3x^3}{x^4}} = \\frac{\\frac{1}{x} + \\frac{2}{x^2}}{1 - \\frac{3}{x}}.\n",
        "$$\n",
        "\n",
        "As $x \\to \\infty$, all terms with $x$ in the denominator approach $0$:\n",
        "$$\n",
        "\\frac{\\frac{1}{x} + \\frac{2}{x^2}}{1 - \\frac{3}{x}} \\to \\frac{0 + 0}{1 - 0} = 0.\n",
        "$$\n",
        "\n",
        "Thus,\n",
        "$$\n",
        "\\lim_{x \\to \\infty} \\frac{x^3 + 2x^2}{x^4 - 3x^3} = 0.$$\n",
        "\n",
        "-----\n",
        "\n",
        "\n",
        "##2. Find:\n",
        "   \n",
        "   - $\\displaystyle \\lim_{x \\to 0} \\frac{\\sin(3x)}{2x+1}$.\n",
        "\n",
        "Vertical asymptotes:\n",
        "   Vertical asymptotes occur when the denominator is zero and the numerator is not zero. Here, the denominator $x^2 + 1 = 0$ has no real solutions (since $x^2 \\geq 0$), so there are no vertical asymptotes.\n",
        "\n",
        "Horizontal asymptotes:\n",
        "   To find horizontal asymptotes, compute the limit of $f(x)$ as $x \\to \\infty$ and $x \\to -\\infty$:\n",
        "   $$\n",
        "   \\lim_{x \\to \\infty} f(x) = \\lim_{x \\to \\infty} \\frac{x^2 - 1}{x^2 + 1}.\n",
        "   $$\n",
        "   Divide numerator and denominator by $x^2$:\n",
        "   $$\n",
        "   \\lim_{x \\to \\infty} \\frac{x^2 - 1}{x^2 + 1} = \\lim_{x \\to \\infty} \\frac{1 - \\frac{1}{x^2}}{1 + \\frac{1}{x^2}} = \\frac{1 - 0}{1 + 0} = 1.\n",
        "   $$\n",
        "   Similarly,\n",
        "   $$\n",
        "   \\lim_{x \\to -\\infty} f(x) = 1.\n",
        "   $$\n",
        "\n",
        "   Therefore, $f(x)$ has a horizontal asymptote at $y = 1$.\n",
        "\n",
        "Conclusion: The function $f(x)$ has a horizontal asymptote at $y = 1$ and no vertical asymptotes.\n",
        "\n",
        "---\n",
        "\n",
        "##3. Find the asymptotes of the function:\n",
        "  \n",
        "   - $f(x) = \\frac{x^2 - 1}{x^2 + 1}$\n",
        "   - $g(x) = \\frac{\\sin(x)}{x^2+1}$\n",
        "\n",
        "{Horizontal asymptotes:}\n",
        "   To find horizontal asymptotes, compute the limit of $g(x)$ as $x \\to \\infty$ and $x \\to -\\infty$:\n",
        "   $$\n",
        "   \\lim_{x \\to \\infty} g(x) = \\lim_{x \\to \\infty} \\frac{\\sin(x)}{x^2 + 1}.\n",
        "   $$\n",
        "   Since $\\sin(x)$ is bounded between $-1$ and $1$, and $x^2 + 1 \\to \\infty$, the fraction approaches $0$:\n",
        "   $$\n",
        "   \\lim_{x \\to \\infty} g(x) = 0.\n",
        "   $$\n",
        "   Similarly,\n",
        "   $$\n",
        "   \\lim_{x \\to -\\infty} g(x) = 0.\n",
        "   $$\n",
        "\n",
        "{Conclusion:} The function $g(x)$ has a horizontal asymptote at $y = 0$ and no vertical asymptotes."
      ],
      "metadata": {
        "id": "_Qk9emq5QZXX"
      }
    }
  ]
}