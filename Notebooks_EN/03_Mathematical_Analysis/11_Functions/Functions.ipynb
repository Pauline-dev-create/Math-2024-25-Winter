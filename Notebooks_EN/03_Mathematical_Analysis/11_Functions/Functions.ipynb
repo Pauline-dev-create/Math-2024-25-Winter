{
  "nbformat": 4,
  "nbformat_minor": 0,
  "metadata": {
    "colab": {
      "provenance": [],
      "authorship_tag": "ABX9TyOok4SFV9DyqFXO6+HBQJq1",
      "include_colab_link": true
    },
    "kernelspec": {
      "name": "python3",
      "display_name": "Python 3"
    },
    "language_info": {
      "name": "python"
    }
  },
  "cells": [
    {
      "cell_type": "markdown",
      "metadata": {
        "id": "view-in-github",
        "colab_type": "text"
      },
      "source": [
        "<a href=\"https://colab.research.google.com/github/Pauline-dev-create/Math-2024-25-Winter/blob/main/Notebooks_EN/03_Mathematical_Analysis/11_Functions/Functions.ipynb\" target=\"_parent\"><img src=\"https://colab.research.google.com/assets/colab-badge.svg\" alt=\"Open In Colab\"/></a>"
      ]
    },
    {
      "cell_type": "markdown",
      "source": [
        "##Functions\n",
        "\n",
        " A function $f(x)$ is a relation where each input $x$ from a set of inputs is associated with exactly one output $f(x)$ from a set of outputs.\n",
        "\n",
        "Key Types of Functions:\n",
        "\n",
        "Quadratic function:$f(x) = x^2$\n",
        "\n",
        "Square root function: $g(x) = \\sqrt{x}$\n",
        "\n",
        "Reciprocal function: $h(x) = \\frac{1}{x}$\n",
        "\n",
        "Trigonometric function: $j(x) = \\sin(x)$\n",
        "\n",
        "Operations on Functions:For functions $f(x)$ and $g(x)$:\n",
        "\n",
        "Composition of functions: $$(f \\circ g)(x) = f(g(x))$$\n",
        "\n",
        "Inverse function: $f^{-1}(x)$ satisfies:\n",
        "$$f(f^{-1}(x)) = x \\quad \\text{and} \\quad f^{-1}(f(x)) = x$$\n",
        "        \n",
        "\n",
        "\n"
      ],
      "metadata": {
        "id": "i1e1877xLsqS"
      }
    },
    {
      "cell_type": "markdown",
      "source": [
        "## 18. Functions Exercises\n",
        "\n",
        "#1\n",
        "Draw in a single Geogebra notebook the following functions:\n",
        "   - $f(x) = x^2$\n",
        "   - $g(x) = \\sqrt{x}$\n",
        "   - $h(x) = \\frac{1}{x}$\n",
        "   - $j(x) = \\sin(x)$\n",
        "\n",
        "Find value of all the above functions at $x = 2$.\n",
        "\n",
        "2. Let $f(x) = 3x - 1$ and $g(x) = \\sqrt{x}$. Find:\n",
        "   - $f(g(x))$\n",
        "   - $g(f(x))$\n",
        "   - $f(f(x))$\n",
        "   - $g(g(x))$\n",
        "\n",
        "and visualize functions in a single Geogebra notebook.\n",
        "\n",
        "3. Let $f(x) = e^x$ and $g(x) = \\ln(x)$. Check: $f(g(x))$ and $g(f(x))$. What do you notice?\n",
        "\n",
        "4. We have function $f=\\{(1,7), (2,9), (3,11)\\}$. Give inverse function $f^{-1}$.\n",
        "\n",
        "5. We have function $f=\\{(1,7), (2,7), (3,11)\\}$. Give inverse function $f^{-1}$.\n",
        "\n",
        "6. We have function $f(x)= x-1$. Give inverse function $f^{-1}$. Show both functions on the same Geogebra notebook.\n"
      ],
      "metadata": {
        "id": "PgW2QkKTOxeo"
      }
    },
    {
      "cell_type": "markdown",
      "source": [
        "#Question 1\n",
        "Draw in a single Geogebra notebook the following functions:\n",
        "   - $f(x) = x^2$\n",
        "   - $g(x) = \\sqrt{x}$\n",
        "   - $h(x) = \\frac{1}{x}$\n",
        "   - $j(x) = \\sin(x)$\n",
        "\n",
        "Find value of all the above functions at $x = 2$.\n",
        "\n",
        "$f(x) = x^2$:$$f(2) = 2^2 = 4$$\n",
        "\n",
        "$g(x) = \\sqrt{x}$: $$g(2) = \\sqrt{2}$$\n",
        "\n",
        "$h(x) = \\frac{1}{x}$:$$h(2) = \\frac{1}{2}$$\n",
        "\n",
        "$j(x) = \\sin(x)$:$$j(2) = \\sin(2) \\quad (\\sin(2) \\approx 0.909)$$\n",
        "\n",
        "Visualise here : https://www.geogebra.org/calculator/ucakxvdr\n"
      ],
      "metadata": {
        "id": "0sShiMOPOYi-"
      }
    },
    {
      "cell_type": "markdown",
      "source": [
        "##Question 2\n",
        "\n",
        " Let $f(x) = 3x - 1$ and $g(x) = \\sqrt{x}$. Find:\n",
        "   - $f(g(x))$\n",
        "   - $g(f(x))$\n",
        "   - $f(f(x))$\n",
        "   - $g(g(x))$\n",
        "\n",
        "and visualize functions in a single Geogebra notebook.\n",
        "\n",
        "-$(f \\circ g)(x) = f(g(x)) = f(\\sqrt{x})$\n",
        "$$ (f \\circ g)(x) = 3\\sqrt{x} - 1 $$\n",
        "\n",
        "-$(g \\circ f)(x) = g(f(x)) = g(3x - 1)$\n",
        "$$ (g \\circ f)(x) = \\sqrt{3x - 1} $$\n",
        "\n",
        "-$(f \\circ f)(x) = f(f(x)) = f(3x - 1)$\n",
        "$$ (f \\circ f)(x) = 3(3x - 1) - 1 = 9x - 4 $$\n",
        "\n",
        "\n",
        "- $(g \\circ g)(x) = g(g(x)) = g(\\sqrt{x})$\n",
        "$$ (g \\circ g)(x) = \\sqrt{\\sqrt{x}} = x^{1/4} $$\n",
        "\n",
        "\n",
        "\n",
        "\n"
      ],
      "metadata": {
        "id": "rmimUauerCCE"
      }
    },
    {
      "cell_type": "markdown",
      "source": [
        "##Question 3\n",
        "\n",
        "Let $f(x) = e^x$ and $g(x) = \\ln(x)$. Check: $f(g(x))$ and $g(f(x))$. What do you notice?\n",
        "\n",
        "$f(g(x)) = f(\\ln(x))$\n",
        "$$ f(g(x)) = e^{\\ln(x)} = x $$\n",
        "$g(f(x)) = g(e^x)$\n",
        "$$ g(f(x)) = \\ln(e^x) = x $$\n",
        "\n",
        "$f(x)$ and $g(x)$ are inverses of each other.\n"
      ],
      "metadata": {
        "id": "_wOTSK6et2_t"
      }
    },
    {
      "cell_type": "markdown",
      "source": [
        " ##Question 4\n",
        "\n",
        " We have function $f=\\{(1,7), (2,9), (3,11)\\}$. Give inverse function $f^{-1}$.\n",
        "\n",
        " To find $f^{-1}$, swap the ordered pairs:\n",
        "$$ f^{-1} = \\{(7,1), (9,2), (11,3)\\} $$\n",
        "\n"
      ],
      "metadata": {
        "id": "ak6R2B8bunzH"
      }
    },
    {
      "cell_type": "markdown",
      "source": [
        "##Question 5\n",
        "We have function $f=\\{(1,7), (2,7), (3,11)\\}$. Give inverse function $f^{-1}$.\n",
        "\n",
        "\n",
        "To find the inverse function $f^{-1}$, we swap the elements of each ordered pair $(x, y)$ to form $(y, x)$. However, note that for a function to have an inverse, it must be one-to-one (injective). In this case, the value $y = 7$ is repeated for two different $x$ values ($x = 1$ and $x = 2$), which violates the condition for a function to be invertible.\n",
        "\n",
        "{Conclusion:} The function $f$ does not have an inverse because it is not one-to-one.\n"
      ],
      "metadata": {
        "id": "Msg7eGi0vA_J"
      }
    },
    {
      "cell_type": "markdown",
      "source": [
        "##Question 6\n",
        "\n",
        "We have function $f(x)= x-1$. Give inverse function $f^{-1}$. Show both functions on the same Geogebra notebook.\n",
        "\n",
        "$f(x)$\n",
        "$$ y = x - 1 $$\n",
        "$x$:$$ x = y + 1 $$\n",
        "Hence, the inverse is:\n",
        " $$ f^{-1}(x) = x + 1 $$\n"
      ],
      "metadata": {
        "id": "RaHT4znov_bn"
      }
    }
  ]
}