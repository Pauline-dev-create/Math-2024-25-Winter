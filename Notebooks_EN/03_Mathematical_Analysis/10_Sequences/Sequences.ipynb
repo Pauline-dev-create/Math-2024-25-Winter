{
  "nbformat": 4,
  "nbformat_minor": 0,
  "metadata": {
    "colab": {
      "provenance": [],
      "authorship_tag": "ABX9TyN1a3fk8f0xEC0YfoNyb48s",
      "include_colab_link": true
    },
    "kernelspec": {
      "name": "python3",
      "display_name": "Python 3"
    },
    "language_info": {
      "name": "python"
    }
  },
  "cells": [
    {
      "cell_type": "markdown",
      "metadata": {
        "id": "view-in-github",
        "colab_type": "text"
      },
      "source": [
        "<a href=\"https://colab.research.google.com/github/Pauline-dev-create/Math-2024-25-Winter/blob/main/Notebooks_EN/03_Mathematical_Analysis/10_Sequences/Sequences.ipynb\" target=\"_parent\"><img src=\"https://colab.research.google.com/assets/colab-badge.svg\" alt=\"Open In Colab\"/></a>"
      ]
    },
    {
      "cell_type": "markdown",
      "source": [
        "## 19.Limits of Sequences\n",
        "\n",
        "### General Limit Formula\n",
        "If $ a_n $ is a sequence, the limit as $ n \\to \\infty $ is written as:\n",
        "$\\lim_{n \\to \\infty} a_n $\n",
        "\n",
        "### Rational Sequences\n",
        "For a sequence of the form $ \\frac{p(n)}{q(n)} $, where $ p(n) $ and $ q(n) $ are polynomials:\n",
        "- Divide the numerator and denominator by the highest power of $ n $.\n",
        "\n",
        "Examples:\n",
        "\n",
        "$ \\lim_{n \\to \\infty} \\frac{n^2 + 3n}{2n^2 - 2n} = \\frac{1}{2}$\n",
        "\n",
        "---"
      ],
      "metadata": {
        "id": "XsHH2hv7b085"
      }
    },
    {
      "cell_type": "markdown",
      "source": [
        "## Exercises\n",
        "\n",
        "1. Calculate:\n",
        "   - $\\displaystyle \\lim_{n \\to \\infty} \\frac{n^2 + 3n}{2 n^2 - 2n}$\n",
        "\n",
        "   - $\\displaystyle \\lim_{n \\to \\infty} \\frac{(2n+3)^3}{n^3-1}$\n",
        "\n",
        "2. Prove using the squeeze theorem:\n",
        "   - $\\displaystyle\\lim_{n \\to \\infty} \\frac{\\sin(n)}{n}$\n",
        "\n",
        "4. Find the limit of the sequence:\n",
        "   - $a_n = (1+\\frac{1}{n})^n$\n"
      ],
      "metadata": {
        "id": "qdNY7C7GPiFQ"
      }
    },
    {
      "cell_type": "markdown",
      "source": [
        "\n",
        "### 1. Compute $ \\lim_{n \\to \\infty} \\frac{n^2 + 3n}{2n^2 - 2n}$\n",
        "\n",
        "$\\text{Step 1: Factor out } n^2 \\text{ from numerator and denominator.}$$\n",
        "\n",
        "$$\\frac{n^2 + 3n}{2n^2 - 2n} = \\frac{n^2(1 + \\frac{3}{n})}{n^2(2 - \\frac{2}{n})}$$\n",
        "\n",
        "$$\\text{Step 2: Simplify.}$$\n",
        "\n",
        "$$= \\frac{1 + \\frac{3}{n}}{2 - \\frac{2}{n}}$$\n",
        "\n",
        "\n",
        "$$\\text{Step 3: Take the limit as } n \\to \\infty.$$\n",
        "\n",
        "$$\\lim_{n \\to \\infty} \\frac{1 + \\frac{3}{n}}{2 - \\frac{2}{n}} = \\frac{1 + 0}{2 - 0} = \\frac{1}{2}$$\n",
        "\n",
        "$$\\boxed{\\frac{1}{2}}$$\n",
        "\n",
        "---\n",
        "\n",
        "### 2. Compute \\( \\displaystyle \\lim_{n \\to \\infty} \\frac{(2n+3)^3}{n^3-1} \\)\n",
        "\n",
        "\n",
        "$$\\text{Step 1: Expand the numerator.}$$\n",
        "\n",
        "$$(2n + 3)^3 = (2n)^3 + 3(2n)^2(3) + 3(2n)(3^2) + 3^3 = 8n^3 + 36n^2 + 54n + 27$$\n",
        "\n",
        "$$\\text{Step 2: Rewrite the expression.}$$\n",
        "\n",
        "$$\\frac{(2n+3)^3}{n^3 - 1} = \\frac{8n^3 + 36n^2 + 54n + 27}{n^3 - 1}$$\n",
        "\n",
        "$$\\text{Step 3: Divide numerator and denominator by } n^3.$$\n",
        "$$= \\frac{8 + \\frac{36}{n} + \\frac{54}{n^2} + \\frac{27}{n^3}}{1 - \\frac{1}{n^3}}\n",
        "$$\n",
        "\n",
        "$$\\text{Step 4: Take the limit as } n \\to \\infty$$\n",
        "\n",
        "$$\\lim_{n \\to \\infty} \\frac{8 + \\frac{36}{n} + \\frac{54}{n^2} + \\frac{27}{n^3}}{1 - \\frac{1}{n^3}} = \\frac{8 + 0 + 0 + 0}{1 - 0} = 8$$\n",
        "\n",
        "$$\\boxed{8}$$\n",
        "\n",
        "---\n",
        "\n",
        "### 3. Prove $ \\displaystyle \\lim_{n \\to \\infty} \\frac{\\sin(n)}{n} $ using the Squeeze Theorem\n",
        "\n",
        "\n",
        "$$\\text{Step 1: Use the bounds of the sine function.}$$\n",
        "\n",
        "$$-1 \\leq \\sin(n) \\leq 1$$\n",
        "\n",
        "\n",
        "$$\\text{Step 2: Divide through by } n \\text{ (for } n > 0 \\text{).}$$\n",
        "\n",
        "$$-\\frac{1}{n} \\leq \\frac{\\sin(n)}{n} \\leq \\frac{1}{n}$$\n",
        "\n",
        "$$\\text{Step 3: Take the limit of each part as } n \\to \\infty.$$\n",
        "\n",
        "$$\\lim_{n \\to \\infty} -\\frac{1}{n} = 0, \\quad \\lim_{n \\to \\infty} \\frac{1}{n} = 0$$\n",
        "\n",
        "$$\\text{By the Squeeze Theorem:}$$\n",
        "\n",
        "$$\\lim_{n \\to \\infty} \\frac{\\sin(n)}{n} = 0$$\n",
        "\n",
        "$$\\boxed{0}$$\n",
        "\n",
        "---\n",
        "\n",
        "### 4. Compute $ \\displaystyle \\lim_{n \\to \\infty} \\left(1 + \\frac{1}{n}\\right)^n$\n",
        "\n",
        "$$\\text{Step 1: Recall the definition of } e.$$\n",
        "\n",
        "$$e = \\lim_{n \\to \\infty} \\left(1 + \\frac{1}{n}\\right)^n$$\n",
        "\n",
        "$$\\text{Therefore:}$$\n",
        "\n",
        "$$\\lim_{n \\to \\infty} \\left(1 + \\frac{1}{n}\\right)^n = e$$\n",
        "\n",
        "\n",
        "$$\\boxed{e}$$\n"
      ],
      "metadata": {
        "id": "eEQxEvHqd7Ry"
      }
    }
  ]
}