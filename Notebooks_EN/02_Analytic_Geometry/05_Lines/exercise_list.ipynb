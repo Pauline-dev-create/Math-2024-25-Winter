# Academic Notes: Line Equations in the Plane

## 1. Types of Line Equations in the Plane
Lines in a plane can be represented using various forms of equations, including:
- General form
- Canonical form
- Slope-intercept form
- Intercept form
- Parametric form

## 2. General Equation of a Line
The general equation of a line in a plane is:
$$
Ax + By + C = 0
$$
where:
- \(A\), \(B\), and \(C\) are constants,
- \(x\) and \(y\) are the coordinates of any point on the line.

## 3. Canonical Equation of a Line
The canonical form of a line equation is:
$$
\frac{x}{a} + \frac{y}{b} = 1
$$
where \(a\) and \(b\) are the x- and y-intercepts of the line, respectively.

## 4. Line Equation in Intercept Form
The line intercepting the x-axis at \(a\) and the y-axis at \(b\) can be written as:
$$
\frac{x}{a} + \frac{y}{b} = 1
$$

### Special Cases
1. If \(a = \infty\), the line is parallel to the x-axis.
2. If \(b = \infty\), the line is parallel to the y-axis.

## 5. Line Equation in Slope Form
The slope-intercept form of a line is:
$$
y = mx + c
$$
where:
- \(m = \frac{\Delta y}{\Delta x}\) is the slope,
- \(c\) is the y-intercept.

## 6. Line Equation Passing Through a Given Point in a Given Direction
If a line passes through a point \((x_1, y_1)\) and has a slope \(m\), its equation is:
$$
y - y_1 = m(x - x_1)
$$

## 7. Line Equation Passing Through Two Given Points
If a line passes through two points \((x_1, y_1)\) and \((x_2, y_2)\), its equation is:
$$
y - y_1 = \frac{y_2 - y_1}{x_2 - x_1}(x - x_1)
$$

## 8. Relative Positions of Lines in the Plane
### (a) Coincident Lines
Two lines are coincident if their equations are multiples of each other:
$$
\frac{A_1}{A_2} = \frac{B_1}{B_2} = \frac{C_1}{C_2}
$$

### (b) Parallel Lines
Two lines are parallel if their slopes are equal:
$$
m_1 = m_2
$$

### (c) Intersecting Lines
Two lines intersect if their slopes are different:
$$
m_1 \neq m_2
$$

## 9. Intersection of Two Lines
The intersection of two lines:
$$
A_1x + B_1y + C_1 = 0
$$
$$
A_2x + B_2y + C_2 = 0
$$
can be found by solving the system of equations. Using determinants:
$$
x = \frac{\begin{vmatrix} -C_1 & B_1 \\ -C_2 & B_2 \end{vmatrix}}{\begin{vmatrix} A_1 & B_1 \\ A_2 & B_2 \end{vmatrix}}, \quad 
y = \frac{\begin{vmatrix} A_1 & -C_1 \\ A_2 & -C_2 \end{vmatrix}}{\begin{vmatrix} A_1 & B_1 \\ A_2 & B_2 \end{vmatrix}}
$$

## 10. Angle Between Two Lines
The angle \(\theta\) between two lines with slopes \(m_1\) and \(m_2\) is:
$$
\tan\theta = \left| \frac{m_2 - m_1}{1 + m_1m_2} \right|
$$

### Special Cases
1. If \(m_1m_2 = -1\), the lines are perpendicular.
2. If \(m_1 = m_2\), the lines are parallel.

## 11. Conditions for Parallelism and Perpendicularity of Two Lines
### Parallelism
Two lines are parallel if:
$$
\frac{A_1}{A_2} = \frac{B_1}{B_2} \neq \frac{C_1}{C_2}
$$

### Perpendicularity
Two lines are perpendicular if:
$$
A_1A_2 + B_1B_2 = 0
$$

---

The line passes through points 
A
(
1
,
2
)
 and 
B
(
3
,
4
)
. Find the equation of the line.
The line passes through point 
A
(
1
,
2
)
 and is parallel to the line 
y
=
2
x
+
3
. Find the equation of the line.
The line passes through point 
A
(
1
,
2
)
 and is perpendicular to the line 
y
=
2
x
+
3
. Find the equation of the line.
We have two lines 
y
=
2
x
+
3
 and 
y
=
3
x
+
2
. Find the intersection point of these lines and calculate the angle between them.
Write the equation of the line passing through point 
A
(
1
,
2
)
 and parallel to the vector 
v
→
=
[
2
,
3
]
.
We have the line 
y
=
2
x
+
3
. Find an example of a line perpendicular and parallel to it.
We have the line 
y
=
2
x
+
3
 and point 
A
(
1
,
2
)
. Find the distance from point 
A
 to the line.
The line intersects the coordinate axes at points 
A
(
2
,
0
)
 and 
B
(
0
,
3
)
. Find the equation of the line.
Calculate the angle between the line 
y
=
x
+
3
 and the 
O
x
 axis.
Provide a vector perpendicular to the line 
x
+
y
+
1
=
0
.
