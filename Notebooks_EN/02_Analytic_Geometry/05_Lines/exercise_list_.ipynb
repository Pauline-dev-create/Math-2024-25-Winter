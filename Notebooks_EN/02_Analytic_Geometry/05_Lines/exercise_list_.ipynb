{
  "nbformat": 4,
  "nbformat_minor": 0,
  "metadata": {
    "colab": {
      "provenance": [],
      "authorship_tag": "ABX9TyNX3vWIJOKfpjl2768PzoHh",
      "include_colab_link": true
    },
    "kernelspec": {
      "name": "python3",
      "display_name": "Python 3"
    },
    "language_info": {
      "name": "python"
    }
  },
  "cells": [
    {
      "cell_type": "markdown",
      "metadata": {
        "id": "view-in-github",
        "colab_type": "text"
      },
      "source": [
        "<a href=\"https://colab.research.google.com/github/Pauline-dev-create/Math-2024-25-Winter/blob/main/Notebooks_EN/02_Analytic_Geometry/05_Lines/exercise_list_.ipynb\" target=\"_parent\"><img src=\"https://colab.research.google.com/assets/colab-badge.svg\" alt=\"Open In Colab\"/></a>"
      ]
    },
    {
      "cell_type": "markdown",
      "source": [
        "Academic Notes: Line Equations in the Plane\n",
        "\n",
        "## 1. Types of Line Equations in the Plane\n",
        "Lines in a plane can be represented using various forms of equations, including:\n",
        "- General form\n",
        "- Canonical form\n",
        "- Slope-intercept form\n",
        "- Intercept form\n",
        "- Parametric form\n",
        "\n",
        "## 2. General Equation of a Line\n",
        "The general equation of a line in a plane is:\n",
        "$$\n",
        "Ax + By + C = 0\n",
        "$$\n",
        "where:\n",
        "- \\(A\\), \\(B\\), and \\(C\\) are constants,\n",
        "- \\(x\\) and \\(y\\) are the coordinates of any point on the line.\n",
        "\n",
        "## 3. Canonical Equation of a Line\n",
        "The canonical form of a line equation is:\n",
        "$$\n",
        "\\frac{x}{a} + \\frac{y}{b} = 1\n",
        "$$\n",
        "where \\(a\\) and \\(b\\) are the x- and y-intercepts of the line, respectively.\n",
        "\n",
        "## 4. Line Equation in Intercept Form\n",
        "The line intercepting the x-axis at \\(a\\) and the y-axis at \\(b\\) can be written as:\n",
        "$$\n",
        "\\frac{x}{a} + \\frac{y}{b} = 1\n",
        "$$\n",
        "\n",
        "### Special Cases\n",
        "1. If \\(a = \\infty\\), the line is parallel to the x-axis.\n",
        "2. If \\(b = \\infty\\), the line is parallel to the y-axis.\n",
        "\n",
        "## 5. Line Equation in Slope Form\n",
        "The slope-intercept form of a line is:\n",
        "$$\n",
        "y = mx + c\n",
        "$$\n",
        "where:\n",
        "- \\(m = \\frac{\\Delta y}{\\Delta x}\\) is the slope,\n",
        "- \\(c\\) is the y-intercept.\n",
        "\n",
        "## 6. Line Equation Passing Through a Given Point in a Given Direction\n",
        "If a line passes through a point \\((x_1, y_1)\\) and has a slope \\(m\\), its equation is:\n",
        "$$\n",
        "y - y_1 = m(x - x_1)\n",
        "$$\n",
        "\n",
        "## 7. Line Equation Passing Through Two Given Points\n",
        "If a line passes through two points \\((x_1, y_1)\\) and \\((x_2, y_2)\\), its equation is:\n",
        "$$\n",
        "y - y_1 = \\frac{y_2 - y_1}{x_2 - x_1}(x - x_1)\n",
        "$$\n",
        "\n",
        "## 8. Relative Positions of Lines in the Plane\n",
        "### (a) Coincident Lines\n",
        "Two lines are coincident if their equations are multiples of each other:\n",
        "$$\n",
        "\\frac{A_1}{A_2} = \\frac{B_1}{B_2} = \\frac{C_1}{C_2}\n",
        "$$\n",
        "\n",
        "### (b) Parallel Lines\n",
        "Two lines are parallel if their slopes are equal:\n",
        "$$\n",
        "m_1 = m_2\n",
        "$$\n",
        "\n",
        "### (c) Intersecting Lines\n",
        "Two lines intersect if their slopes are different:\n",
        "$$\n",
        "m_1 \\neq m_2\n",
        "$$\n",
        "\n",
        "## 9. Intersection of Two Lines\n",
        "The intersection of two lines:\n",
        "$$\n",
        "A_1x + B_1y + C_1 = 0\n",
        "$$\n",
        "$$\n",
        "A_2x + B_2y + C_2 = 0\n",
        "$$\n",
        "can be found by solving the system of equations. Using determinants:\n",
        "$$\n",
        "x = \\frac{\\begin{vmatrix} -C_1 & B_1 \\\\ -C_2 & B_2 \\end{vmatrix}}{\\begin{vmatrix} A_1 & B_1 \\\\ A_2 & B_2 \\end{vmatrix}}, \\quad\n",
        "y = \\frac{\\begin{vmatrix} A_1 & -C_1 \\\\ A_2 & -C_2 \\end{vmatrix}}{\\begin{vmatrix} A_1 & B_1 \\\\ A_2 & B_2 \\end{vmatrix}}\n",
        "$$\n",
        "\n",
        "## 10. Angle Between Two Lines\n",
        "The angle \\(\\theta\\) between two lines with slopes \\(m_1\\) and \\(m_2\\) is:\n",
        "$$\n",
        "\\tan\\theta = \\left| \\frac{m_2 - m_1}{1 + m_1m_2} \\right|\n",
        "$$\n",
        "\n",
        "### Special Cases\n",
        "1. If \\(m_1m_2 = -1\\), the lines are perpendicular.\n",
        "2. If \\(m_1 = m_2\\), the lines are parallel.\n",
        "\n",
        "## 11. Conditions for Parallelism and Perpendicularity of Two Lines\n",
        "### Parallelism\n",
        "Two lines are parallel if:\n",
        "$$\n",
        "\\frac{A_1}{A_2} = \\frac{B_1}{B_2} \\neq \\frac{C_1}{C_2}\n",
        "$$\n",
        "\n",
        "### Perpendicularity\n",
        "Two lines are perpendicular if:\n",
        "$$\n",
        "A_1A_2 + B_1B_2 = 0\n",
        "$$\n",
        "\n",
        "---\n"
      ],
      "metadata": {
        "id": "UhpmULikgXDS"
      }
    },
    {
      "cell_type": "markdown",
      "source": [
        "  ##      Exercise for students\n",
        "\n",
        "* The line passes through points $A(1, 2)$ and $B(3, 4)$. Find the equation of the line.\n",
        "* The line passes through point $A(1, 2)$ and is parallel to the line $y = 2x + 3$. Find the equation of the line.\n",
        "* The line passes through point $A(1, 2)$ and is perpendicular to the line $y = 2x + 3$. Find the equation of the line.\n",
        "* We have two lines $y = 2x + 3$ and $y = 3x + 2$. Find the intersection point of these lines and calculate the angle between them.\n",
        "* Write the equation of the line passing through point $A(1, 2)$ and parallel to the vector $\\vec{v} = [2, 3]$.\n",
        "* We have the line $y = 2x + 3$. Find an example of a line perpendicular and parallel to it.\n",
        "* We have the line $y = 2x + 3$ and point $A(1, 2)$. Find the distance from point $A$ to the line.\n",
        "* The line intersects the coordinate axes at points $A(2, 0)$ and $B(0, 3)$. Find the equation of the line.\n",
        "* Calculate the angle between the line $y = x + 3$ and the $Ox$ axis.\n",
        "* Provide a vector perpendicular to the line $x + y + 1 = 0$."
      ],
      "metadata": {
        "id": "Xk_s7JkDeFee"
      }
    },
    {
      "cell_type": "markdown",
      "source": [
        "#Equation of a Line Passing Through Two Points\n",
        "\n",
        "**Given:** Points \\(A(1, 2)\\) and \\(B(3, 4)\\).  \n",
        "The slope of the line is:\n",
        "$$\n",
        "m = \\frac{y_2 - y_1}{x_2 - x_1} = \\frac{4 - 2}{3 - 1} = 1\n",
        "$$\n",
        "\n",
        "The line equation is:\n",
        "$$\n",
        "y - y_1 = m(x - x_1)\n",
        "$$\n",
        "Substitute \\(m = 1\\) and \\(A(1, 2)\\):\n",
        "$$\n",
        "y - 2 = 1(x - 1) \\implies y = x + 1\n",
        "$$"
      ],
      "metadata": {
        "id": "4P9DxRfsobh-"
      }
    },
    {
      "cell_type": "markdown",
      "source": [
        "## Line Passing Through a Point and Parallel to Another Line\n",
        "**Given:** Point \\(A(1, 2)\\) and a line \\(y = 2x + 3\\).  \n",
        "\n",
        "The slope of the given line is \\(m = 2\\). Since the new line is parallel, it has the same slope.  \n",
        "Using the point-slope form:\n",
        "$$\n",
        "y - y_1 = m(x - x_1)\n",
        "$$\n",
        "Substitute \\(m = 2\\) and \\(A(1, 2)\\):\n",
        "$$\n",
        "y - 2 = 2(x - 1) \\implies y = 2x\n",
        "$$"
      ],
      "metadata": {
        "id": "8SkeDzgEqomD"
      }
    },
    {
      "cell_type": "markdown",
      "source": [
        "##Line Passing Through a Point and Perpendicular to Another Line\n",
        "**Given:** Point \\(A(1, 2)\\) and a line \\(y = 2x + 3\\).  \n",
        "\n",
        "The slope of the given line is \\(m = 2\\).  \n",
        "For perpendicularity, the slope is:\n",
        "$$\n",
        "m_{\\text{perp}} = -\\frac{1}{m} = -\\frac{1}{2}\n",
        "$$\n",
        "\n",
        "Using the point-slope form:\n",
        "$$\n",
        "y - y_1 = m_{\\text{perp}}(x - x_1)\n",
        "$$\n",
        "Substitute \\(m_{\\text{perp}} = -\\frac{1}{2}\\) and \\(A(1, 2)\\):\n",
        "$$\n",
        "y - 2 = -\\frac{1}{2}(x - 1) \\implies y = -\\frac{1}{2}x + \\frac{5}{2}\n",
        "$$"
      ],
      "metadata": {
        "id": "zSvjnAyIq_tw"
      }
    },
    {
      "cell_type": "markdown",
      "source": [
        "## Intersection Point and Angle Between Two Lines\n",
        "**Given:** \\(y = 2x + 3\\) and \\(y = 3x + 2\\).  \n",
        "\n",
        "### Intersection Point:\n",
        "Set the two equations equal:\n",
        "$$\n",
        "2x + 3 = 3x + 2\n",
        "$$\n",
        "Solve for \\(x\\):\n",
        "$$\n",
        "x = 1\n",
        "$$\n",
        "Substitute \\(x = 1\\) into \\(y = 2x + 3\\):\n",
        "$$\n",
        "y = 2(1) + 3 = 5\n",
        "$$\n",
        "The intersection point is \\((1, 5)\\).\n",
        "\n",
        "### Angle Between the Lines:\n",
        "The slopes are \\(m_1 = 2\\) and \\(m_2 = 3\\). The angle \\(\\theta\\) between the lines is:\n",
        "$$\n",
        "\\tan\\theta = \\left|\\frac{m_2 - m_1}{1 + m_1m_2}\\right|\n",
        "$$\n",
        "Substitute values:\n",
        "$$\n",
        "\\tan\\theta = \\left|\\frac{3 - 2}{1 + (2)(3)}\\right| = \\frac{1}{7}\n",
        "$$\n",
        "Thus:\n",
        "$$\n",
        "\\theta = \\tan^{-1}\\left(\\frac{1}{7}\\right)\n",
        "$$\n"
      ],
      "metadata": {
        "id": "hSmq2BQ4rXVS"
      }
    },
    {
      "cell_type": "markdown",
      "source": [
        "##Line Parallel to a Given Vector\n",
        "**Given:** Point \\(A(1, 2)\\) and vector \\(\\vec{v} = [2, 3]\\).  \n",
        "\n",
        "The slope of the vector is:\n",
        "$$\n",
        "m = \\frac{3}{2}\n",
        "$$\n",
        "\n",
        "Using the point-slope form:\n",
        "$$\n",
        "y - y_1 = m(x - x_1)\n",
        "$$\n",
        "Substitute \\(m = \\frac{3}{2}\\) and \\(A(1, 2)\\):\n",
        "$$\n",
        "y - 2 = \\frac{3}{2}(x - 1) \\implies y = \\frac{3}{2}x + \\frac{1}{2}\n",
        "$$"
      ],
      "metadata": {
        "id": "hq65YbGyr-uB"
      }
    },
    {
      "cell_type": "markdown",
      "source": [
        "##Lines Perpendicular and Parallel to a Given Line\n",
        "**Given:** Line \\(y = 2x + 3\\).  \n",
        "\n",
        "### Parallel Line:\n",
        "Keep the same slope \\(m = 2\\):\n",
        "$$\n",
        "y = 2x + C\n",
        "$$\n",
        "For example, \\(C = 1\\), the line is \\(y = 2x + 1\\).\n",
        "\n",
        "### Perpendicular Line:\n",
        "The slope is:\n",
        "$$\n",
        "m_{\\text{perp}} = -\\frac{1}{2}\n",
        "$$\n",
        "Using the slope-intercept form:\n",
        "$$\n",
        "y = -\\frac{1}{2}x + C\n",
        "$$\n",
        "For example, $C = 1$, the line is $y = -\\frac{1}{2}x + 1$.\n"
      ],
      "metadata": {
        "id": "jeXFxiyGshQx"
      }
    },
    {
      "cell_type": "markdown",
      "source": [
        "##Distance from a Point to a Line\n",
        "**Given:** Line \\(y = 2x + 3\\) and point \\(A(1, 2)\\).  \n",
        "\n",
        "The distance \\(d\\) from a point \\((x_1, y_1)\\) to a line \\(Ax + By + C = 0\\) is:\n",
        "$$\n",
        "d = \\frac{|Ax_1 + By_1 + C|}{\\sqrt{A^2 + B^2}}\n",
        "$$\n",
        "\n",
        "Rewriting \\(y = 2x + 3\\) as:\n",
        "$$\n",
        "-2x + y - 3 = 0\n",
        "$$\n",
        "Substitute \\(A = -2\\), \\(B = 1\\), \\(C = -3\\), $x_1 = 1$, $y_1 = 2$:\n",
        "$$\n",
        "d = \\frac{|(-2)(1) + (1)(2) - 3|}{\\sqrt{(-2)^2 + (1)^2}} = \\frac{|-3|}{\\sqrt{5}} = \\frac{3}{\\sqrt{5}}\n",
        "$$"
      ],
      "metadata": {
        "id": "XsLGs90Ms_Sm"
      }
    },
    {
      "cell_type": "markdown",
      "source": [
        "##Line Intersecting Coordinate Axes\n",
        "**Given:** Points \\(A(2, 0)\\) and \\(B(0, 3)\\).  \n",
        "\n",
        "Find the slope:\n",
        "$$\n",
        "m = \\frac{3 - 0}{0 - 2} = -\\frac{3}{2}\n",
        "$$\n",
        "\n",
        "The line equation is:\n",
        "$$\n",
        "y - y_1 = m(x - x_1)\n",
        "$$\n",
        "Substitute \\(A(2, 0)\\) and \\(m = -\\frac{3}{2}\\):\n",
        "$$\n",
        "y - 0 = -\\frac{3}{2}(x - 2) \\implies y = -\\frac{3}{2}x + 3\n",
        "$$\n",
        "\n",
        "https://www.geogebra.org/calculator/as6fxzmz"
      ],
      "metadata": {
        "id": "m5HKdRNrtOGP"
      }
    },
    {
      "cell_type": "markdown",
      "source": [
        "##Angle Between a Line and the \\(O_x\\)-Axis\n",
        "(y = x + 3\\).  \n",
        "\n",
        "The angle \\(\\theta\\) with the \\(O_x\\)-axis is given by:\n",
        "$$\n",
        "\\tan\\theta = m\n",
        "$$\n",
        "where \\(m = 1\\):\n",
        "$$\n",
        "\\theta = \\tan^{-1}(1) = 45^\\circ\n",
        "$$"
      ],
      "metadata": {
        "id": "aQQw7ei-tYAC"
      }
    },
    {
      "cell_type": "markdown",
      "source": [
        "## Vector Perpendicular to a Line\n",
        "**Given:** Line \\(x + y + 1 = 0\\).  \n",
        "\n",
        "The direction vector of the line is:\n",
        "$$\n",
        "\\vec{v} = [-1, -1]\n",
        "$$\n",
        "\n",
        "A vector perpendicular to \\(\\vec{v}\\) is:\n",
        "$$\n",
        "\\vec{v}_{\\perp} = [1, -1]\n",
        "$$"
      ],
      "metadata": {
        "id": "s7YlB-AJte6b"
      }
    }
  ]
}