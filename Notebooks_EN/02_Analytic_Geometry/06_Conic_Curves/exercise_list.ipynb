{
  "nbformat": 4,
  "nbformat_minor": 0,
  "metadata": {
    "colab": {
      "provenance": [],
      "authorship_tag": "ABX9TyOOmKLD70GwrBwCgWUweSMu",
      "include_colab_link": true
    },
    "kernelspec": {
      "name": "python3",
      "display_name": "Python 3"
    },
    "language_info": {
      "name": "python"
    }
  },
  "cells": [
    {
      "cell_type": "markdown",
      "metadata": {
        "id": "view-in-github",
        "colab_type": "text"
      },
      "source": [
        "<a href=\"https://colab.research.google.com/github/Pauline-dev-create/Math-2024-25-Winter/blob/main/Notebooks_EN/02_Analytic_Geometry/06_Conic_Curves/exercise_list.ipynb\" target=\"_parent\"><img src=\"https://colab.research.google.com/assets/colab-badge.svg\" alt=\"Open In Colab\"/></a>"
      ]
    },
    {
      "cell_type": "markdown",
      "source": [
        "# Conic Sections\n",
        "\n",
        "Conic sections are the curves formed by the intersection of a plane with a double-napped cone. The type of curve depends on the angle and position of the plane relative to the cone. The main types of conic sections are: circles, ellipses, parabolas, and hyperbolas.\n",
        "\n",
        "# Formulas\n",
        "$\n",
        "\\begin{array}{|c|c|}\n",
        "\\hline\n",
        "\\textbf{Conic Section} & \\textbf{Standard Form} \\\\\n",
        "\\hline\n",
        "\\text{Circle} & (x-h)^2 + (y-k)^2 = r^2 \\\\\n",
        "\\hline\n",
        "\\text{Ellipse} & \\frac{(x-h)^2}{a^2} + \\frac{(y-k)^2}{b^2} = 1 \\\\\n",
        "\\hline\n",
        "\\text{Parabola} & y - k = a(x-h)^2 \\, \\text{or} \\, x - h = a(y-k)^2 \\\\\n",
        "\\hline\n",
        "\\text{Hyperbola} & \\frac{(x-h)^2}{a^2} - \\frac{(y-k)^2}{b^2} = 1 \\\\\n",
        "\\hline\n",
        "\\end{array}\n",
        "$"
      ],
      "metadata": {
        "id": "H2FNM-Vjd6e8"
      }
    },
    {
      "cell_type": "markdown",
      "source": [
        "## Tasks for students\n",
        "\n",
        "* Find the equation of a circle with center at point $A(1,2)$ and radius $r=3$.\n",
        "* Find the equation of a parabola intersecting the $Ox$ axis at points $x=2$, $x=4$, and passing through point $y(3)=1$.\n",
        "* Find the center of the ellipse with the equation $x^2 + 4y^2 - 4x - 16y + 16 = 0$.\n",
        "* Find the slope ($m>0$) of the line $y=mx-5$ that is tangent to the circle with the equation $x^2 + y^2=1$.\n",
        "* Find the intersection points of the hyperbola $x^2 - y^2 = 1$ with the ellipse's line $x^2 + 4y^2 = 6$.\n",
        "* For the given hyperbola $x^2 - y^2 = 1$, find the distance between its branches."
      ],
      "metadata": {
        "id": "05zjuYoldrCu"
      }
    },
    {
      "cell_type": "markdown",
      "source": [
        "1. Equation of a Circle\n",
        "\n",
        "Given: Center  A = (1, 2) , radius \\( r = 3 \\).\n",
        "\n",
        "The general equation of a circle is:\n",
        "$\n",
        "(x - h)^2 + (y - k)^2 = r^2\n",
        "\\$\n",
        "\n",
        "Substitute \\( h = 1 \\), \\( k = 2 \\), and \\( r = 3 \\):\n",
        "$\n",
        "(x - 1)^2 + (y - 2)^2 = 3^2\n",
        "$\n",
        "\n",
        "Simplify:\n",
        "$\\\n",
        "(x - 1)^2 + (y - 2)^2 = 9\n",
        "\\$\n",
        "\n",
        "The equation of the circle is:\n",
        "$\\\n",
        "\\boxed{(x - 1)^2 + (y - 2)^2 = 9}\n",
        "\\$"
      ],
      "metadata": {
        "id": "pzlwivDOFBKK"
      }
    },
    {
      "cell_type": "markdown",
      "source": [
        "2.Equation of a Parabola\n",
        "\n",
        "The parabola intersects the \\( x \\)-axis at \\( x = 2 \\) and \\( x = 4 \\), and passes through the point \\( (3, 1) \\).\n",
        "\n",
        "The general form of a parabola is:\n",
        "$y = a(x - x_1)(x - x_2)$\n",
        "\n",
        "\n",
        "Substitute \\( x_1 = 2 \\) and \\( x_2 = 4 \\):\n",
        "$\n",
        "y = a(x - 2)(x - 4)$\n",
        "\n",
        "Using the point \\( (3, 1) \\) to find \\( a \\):\n",
        "$\n",
        "1 = a(3 - 2)(3 - 4)$\n",
        "$\n",
        "1 = a(1)(-1) \\implies a = -1$\n",
        "\n",
        "The equation of the parabola is:\n",
        "$\\\n",
        "\\boxed{y = -(x - 2)(x - 4) = -x^2 + 6x - 8}$"
      ],
      "metadata": {
        "id": "S6EC1xzLGJSp"
      }
    },
    {
      "cell_type": "markdown",
      "source": [
        "3. Center of the Ellipse\n",
        "\n",
        "Given equation:\n",
        "$\n",
        "x^2 + 4y^2 - 4x - 16y + 16 = 0\n",
        "$\n",
        "\n",
        "Group terms and complete the square:\n",
        "$\n",
        "(x^2 - 4x) + 4(y^2 - 4y) = -16\n",
        "$\n",
        "\n",
        "Complete the square for \\( x \\):\n",
        "$\n",
        "x^2 - 4x = (x - 2)^2 - 4\n",
        "$\n",
        "\n",
        "Complete the square for \\( y \\):\n",
        "$\n",
        "4(y^2 - 4y) = 4((y - 2)^2 - 4) = 4(y - 2)^2 - 16\n",
        "$\n",
        "\n",
        "Substitute back:\n",
        "$\n",
        "(x - 2)^2 - 4 + 4(y - 2)^2 - 16 = -16\n",
        "$\n",
        "$\n",
        "(x - 2)^2 + 4(y - 2)^2 = 4\n",
        "$\n",
        "\n",
        "The center of the ellipse is:\n",
        "$\n",
        "\\boxed{(2, 2)}\n",
        "$"
      ],
      "metadata": {
        "id": "AtymR_OKIL77"
      }
    },
    {
      "cell_type": "markdown",
      "source": [
        "  4. Slope of a Tangent Line\n",
        "\n",
        "The line $ y = mx - 5$ is tangent to the circle $ x^2 + y^2 = 1$.\n",
        "\n",
        "The condition for tangency is:\n",
        "$\\frac{|c|}{\\sqrt{1 + m^2}} = r\n",
        "$\n",
        "\n",
        "Substitute $ c = -5 $, $ r = 1 $:\n",
        "$\\frac{5}{\\sqrt{1 + m^2}} = 1\n",
        "$\n",
        "\n",
        "$5 = \\sqrt{1 + m^2}$\n",
        "\n",
        "$25 = 1 + m^2 \\implies m^2 = 24 \\implies m = \\sqrt{24} = 2\\sqrt{6}$\n",
        "\n",
        "The slope is:$\\boxed{m = 2\\sqrt{6}}$"
      ],
      "metadata": {
        "id": "-xTLqA3nLGWm"
      }
    },
    {
      "cell_type": "markdown",
      "source": [
        "5. Intersection of Hyperbola and Ellipse\n",
        "\n",
        "Given equations:\n",
        "$x^2 - y^2 = 1 \\quad \\text{and} \\quad x^2 + 4y^2 = 6$\n",
        "\n",
        "Add the equations to eliminate $ x^2$:\n",
        "$(x^2 - y^2) + (x^2 + 4y^2) = 1 + 6$\n",
        "\n",
        "$2x^2 + 3y^2 = 7$\n",
        "\n",
        "Subtract the second equation from the first:$(x^2 - y^2) - (x^2 + 4y^2) = 1 - 6$\n",
        "$-5y^2 = -5 \\implies y^2 = 1$\n",
        "\n",
        "$y = \\pm 1$\n",
        "\n",
        "Substitute $y = 1$ into $x^2 - y^2 = 1$:$\n",
        "x^2 - (1)^2 = 1$\n",
        "\n",
        "$x^2 = 2 \\implies x = \\pm \\sqrt{2}$\n",
        "\n",
        "Substitute $y = -1$ into $x^2 - y^2 = 1$:\n",
        "$x^2 - (-1)^2 = 1$\n",
        "\n",
        "$x^2 = 2 \\implies x = \\pm \\sqrt{2}$\n",
        "\n",
        "The four intersection points are:$(\\sqrt{2}, 1), \\, (-\\sqrt{2}, 1), \\, (\\sqrt{2}, -1), \\, (-\\sqrt{2}, -1)$\n",
        "\n",
        "The intersection points are:\n",
        "$\\boxed{(\\sqrt{2}, 1), (-\\sqrt{2}, 1), (\\sqrt{2}, -1), (-\\sqrt{2}, -1)}$\n"
      ],
      "metadata": {
        "id": "h8iJWfLiMM1u"
      }
    },
    {
      "cell_type": "markdown",
      "source": [
        " 6. Distance Between Branches of the Hyperbola\n",
        "\n",
        "The hyperbola is:\n",
        "$x^2 - y^2 = 1$\n",
        "\n",
        "The distance between branches is twice the distance from the center to the asymptotes along the $ y $-axis. For $ x = 0 $, $y = \\pm 1 $,\n",
        "\n",
        "the distance is:\n",
        "$2 \\cdot 1 = 2$\n",
        "\n",
        "The distance is:\n",
        "$\\boxed{2}$\n",
        "\n",
        "https://www.geogebra.org/calculator/zsp46jhh"
      ],
      "metadata": {
        "id": "3haJD3Z6M3g0"
      }
    }
  ]
}