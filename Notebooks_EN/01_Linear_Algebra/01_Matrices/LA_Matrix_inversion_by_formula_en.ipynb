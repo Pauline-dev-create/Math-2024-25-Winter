{
  "cells": [
    {
      "cell_type": "markdown",
      "metadata": {
        "id": "view-in-github",
        "colab_type": "text"
      },
      "source": [
        "<a href=\"https://colab.research.google.com/github/Pauline-dev-create/Math-2024-25-Winter/blob/main/Notebooks_EN/01_Linear_Algebra/01_Matrices/LA_Matrix_inversion_by_formula_en.ipynb\" target=\"_parent\"><img src=\"https://colab.research.google.com/assets/colab-badge.svg\" alt=\"Open In Colab\"/></a>"
      ]
    },
    {
      "cell_type": "markdown",
      "metadata": {
        "id": "kSsZaZmAte97"
      },
      "source": [
        "# Matrix Inversion\n",
        "\n",
        "The inverse of a matrix $A$ is a matrix $A^{-1}$ such that $A \\cdot A^{-1} = A^{-1} \\cdot A = I$, where $I$ is the identity matrix.\n",
        "\n",
        "**Example 1:**"
      ]
    },
    {
      "cell_type": "code",
      "execution_count": null,
      "metadata": {
        "colab": {
          "base_uri": "https://localhost:8080/",
          "height": 78
        },
        "id": "1tXb9OQ4te9_",
        "outputId": "01d88e99-bee1-4e2b-d7bc-af58424a9bb3"
      },
      "outputs": [
        {
          "output_type": "execute_result",
          "data": {
            "text/plain": [
              "Matrix([\n",
              "[2, 1, 2],\n",
              "[5, 3, 1],\n",
              "[1, 1, 5]])"
            ],
            "text/latex": "$\\displaystyle \\left[\\begin{matrix}2 & 1 & 2\\\\5 & 3 & 1\\\\1 & 1 & 5\\end{matrix}\\right]$"
          },
          "metadata": {},
          "execution_count": 1
        }
      ],
      "source": [
        "import sympy as sp # import sympy library\n",
        "k1 = sp.Matrix([[2, 1, 2], [5, 3, 1], [1, 1, 5]]) # create matrix k1\n",
        "k1"
      ]
    },
    {
      "cell_type": "code",
      "execution_count": null,
      "metadata": {
        "colab": {
          "base_uri": "https://localhost:8080/",
          "height": 78
        },
        "id": "295V3987te-C",
        "outputId": "c5ba6b4e-f0e4-488e-f646-3865bbde6282"
      },
      "outputs": [
        {
          "output_type": "execute_result",
          "data": {
            "text/plain": [
              "Matrix([\n",
              "[7/4, -3/8, -5/8],\n",
              "[ -3,    1,    1],\n",
              "[1/4, -1/8,  1/8]])"
            ],
            "text/latex": "$\\displaystyle \\left[\\begin{matrix}\\frac{7}{4} & - \\frac{3}{8} & - \\frac{5}{8}\\\\-3 & 1 & 1\\\\\\frac{1}{4} & - \\frac{1}{8} & \\frac{1}{8}\\end{matrix}\\right]$"
          },
          "metadata": {},
          "execution_count": 4
        }
      ],
      "source": [
        "k1=sp.Matrix([[2,1,2],[5,3,1],[1,1,5]])\n",
        "k1\n",
        "inverse_k1 = k1.inv() # calculate the inverse of matrix k1\n",
        "inverse_k1"
      ]
    },
    {
      "cell_type": "code",
      "execution_count": null,
      "metadata": {
        "colab": {
          "base_uri": "https://localhost:8080/",
          "height": 78
        },
        "id": "AebMaNlTte-E",
        "outputId": "a72a2bd4-bde0-408a-8c5d-782a12b594e3"
      },
      "outputs": [
        {
          "output_type": "execute_result",
          "data": {
            "text/plain": [
              "Matrix([\n",
              "[1, 0, 0],\n",
              "[0, 1, 0],\n",
              "[0, 0, 1]])"
            ],
            "text/latex": "$\\displaystyle \\left[\\begin{matrix}1 & 0 & 0\\\\0 & 1 & 0\\\\0 & 0 & 1\\end{matrix}\\right]$"
          },
          "metadata": {},
          "execution_count": 5
        }
      ],
      "source": [
        "k1 * inverse_k1 # verify if multiplying the matrix by its inverse yields the identity matrix"
      ]
    },
    {
      "cell_type": "markdown",
      "metadata": {
        "id": "oIZkde_Zte-F"
      },
      "source": [
        "**Example 2:**"
      ]
    },
    {
      "cell_type": "code",
      "execution_count": 1,
      "metadata": {
        "colab": {
          "base_uri": "https://localhost:8080/",
          "height": 89
        },
        "id": "8ymj6d25te-G",
        "outputId": "aac36353-49f3-4e87-8dba-e64428bf0711"
      },
      "outputs": [
        {
          "output_type": "execute_result",
          "data": {
            "text/plain": [
              "Matrix([\n",
              "[ (e*i - f*h)/(a*e*i - a*f*h - b*d*i + b*f*g + c*d*h - c*e*g), (-b*i + c*h)/(a*e*i - a*f*h - b*d*i + b*f*g + c*d*h - c*e*g),  (b*f - c*e)/(a*e*i - a*f*h - b*d*i + b*f*g + c*d*h - c*e*g)],\n",
              "[(-d*i + f*g)/(a*e*i - a*f*h - b*d*i + b*f*g + c*d*h - c*e*g),  (a*i - c*g)/(a*e*i - a*f*h - b*d*i + b*f*g + c*d*h - c*e*g), (-a*f + c*d)/(a*e*i - a*f*h - b*d*i + b*f*g + c*d*h - c*e*g)],\n",
              "[ (d*h - e*g)/(a*e*i - a*f*h - b*d*i + b*f*g + c*d*h - c*e*g), (-a*h + b*g)/(a*e*i - a*f*h - b*d*i + b*f*g + c*d*h - c*e*g),  (a*e - b*d)/(a*e*i - a*f*h - b*d*i + b*f*g + c*d*h - c*e*g)]])"
            ],
            "text/latex": "$\\displaystyle \\left[\\begin{matrix}\\frac{e i - f h}{a e i - a f h - b d i + b f g + c d h - c e g} & \\frac{- b i + c h}{a e i - a f h - b d i + b f g + c d h - c e g} & \\frac{b f - c e}{a e i - a f h - b d i + b f g + c d h - c e g}\\\\\\frac{- d i + f g}{a e i - a f h - b d i + b f g + c d h - c e g} & \\frac{a i - c g}{a e i - a f h - b d i + b f g + c d h - c e g} & \\frac{- a f + c d}{a e i - a f h - b d i + b f g + c d h - c e g}\\\\\\frac{d h - e g}{a e i - a f h - b d i + b f g + c d h - c e g} & \\frac{- a h + b g}{a e i - a f h - b d i + b f g + c d h - c e g} & \\frac{a e - b d}{a e i - a f h - b d i + b f g + c d h - c e g}\\end{matrix}\\right]$"
          },
          "metadata": {},
          "execution_count": 1
        }
      ],
      "source": [
        "import sympy as sp\n",
        "a, b, c, d, e, f, g, h, i = sp.symbols('a b c d e f g h i') # define variables a-i\n",
        "k = sp.Matrix([[a, b, c], [d, e, f], [g, h, i]]) # create matrix k\n",
        "inverse_k = k.inv()\n",
        "inverse_k"
      ]
    },
    {
      "cell_type": "code",
      "source": [],
      "metadata": {
        "id": "So0q1RHnYSeF"
      },
      "execution_count": null,
      "outputs": []
    },
    {
      "cell_type": "markdown",
      "metadata": {
        "id": "lwZVCrJcte-I"
      },
      "source": [
        "This complex form results from the formula that allows for the calculation of the elements of the inverse matrix. Before we proceed, let's define a few concepts.\n",
        "\n",
        "**Matrix Transposition** is an operation that swaps rows with columns. The transpose of a matrix $A$ is a matrix $A^T$ such that $A^T_{ij} = A_{ji}$."
      ]
    },
    {
      "cell_type": "code",
      "execution_count": null,
      "metadata": {
        "colab": {
          "base_uri": "https://localhost:8080/",
          "height": 78
        },
        "id": "e-Pg_hNGte-J",
        "outputId": "2a5fe54f-40d0-4d81-b0fa-22ca5767e212"
      },
      "outputs": [
        {
          "output_type": "execute_result",
          "data": {
            "text/plain": [
              "Matrix([\n",
              "[a, b, c],\n",
              "[d, e, f],\n",
              "[g, h, i]])"
            ],
            "text/latex": "$\\displaystyle \\left[\\begin{matrix}a & b & c\\\\d & e & f\\\\g & h & i\\end{matrix}\\right]$"
          },
          "metadata": {},
          "execution_count": 7
        }
      ],
      "source": [
        "k"
      ]
    },
    {
      "cell_type": "code",
      "execution_count": null,
      "metadata": {
        "colab": {
          "base_uri": "https://localhost:8080/",
          "height": 78
        },
        "id": "dc29Hf8jte-K",
        "outputId": "21c27955-d837-48f8-9430-ea241e30b331"
      },
      "outputs": [
        {
          "output_type": "execute_result",
          "data": {
            "text/plain": [
              "Matrix([\n",
              "[a, d, g],\n",
              "[b, e, h],\n",
              "[c, f, i]])"
            ],
            "text/latex": "$\\displaystyle \\left[\\begin{matrix}a & d & g\\\\b & e & h\\\\c & f & i\\end{matrix}\\right]$"
          },
          "metadata": {},
          "execution_count": 8
        }
      ],
      "source": [
        "k.transpose() # transpose matrix k"
      ]
    },
    {
      "cell_type": "markdown",
      "metadata": {
        "id": "V_2FBJN6te-L"
      },
      "source": [
        "**Minor** of a matrix $A$ is the determinant of the matrix obtained by removing the $i$-th row and $j$-th column. We denote it by $M_{ij}$."
      ]
    },
    {
      "cell_type": "code",
      "execution_count": null,
      "metadata": {
        "colab": {
          "base_uri": "https://localhost:8080/",
          "height": 78
        },
        "id": "XEKrry0nte-L",
        "outputId": "11df7064-ec1d-45e3-83db-ec0fe9b574aa"
      },
      "outputs": [
        {
          "output_type": "execute_result",
          "data": {
            "text/plain": [
              "Matrix([\n",
              "[1, 2, 3],\n",
              "[4, 5, 6],\n",
              "[7, 8, 9]])"
            ],
            "text/latex": "$\\displaystyle \\left[\\begin{matrix}1 & 2 & 3\\\\4 & 5 & 6\\\\7 & 8 & 9\\end{matrix}\\right]$"
          },
          "metadata": {},
          "execution_count": 9
        }
      ],
      "source": [
        "# Minor of matrix $A$ is the determinant of the matrix obtained by removing the $i$-th row and $j$-th column. We denote it by $M_{ij}$.\n",
        "k2 = sp.Matrix([[1, 2, 3], [4, 5, 6], [7, 8, 9]])\n",
        "k2"
      ]
    },
    {
      "cell_type": "code",
      "execution_count": null,
      "metadata": {
        "colab": {
          "base_uri": "https://localhost:8080/",
          "height": 58
        },
        "id": "Ro7xA2vute-N",
        "outputId": "f7ce3a61-f02e-46cb-d774-914f8a48bec6"
      },
      "outputs": [
        {
          "output_type": "execute_result",
          "data": {
            "text/plain": [
              "Matrix([\n",
              "[4, 6],\n",
              "[7, 9]])"
            ],
            "text/latex": "$\\displaystyle \\left[\\begin{matrix}4 & 6\\\\7 & 9\\end{matrix}\\right]$"
          },
          "metadata": {},
          "execution_count": 10
        }
      ],
      "source": [
        "M01 = k2.minor_submatrix(0, 1) # calculate minor M01\n",
        "M01"
      ]
    },
    {
      "cell_type": "code",
      "execution_count": null,
      "metadata": {
        "colab": {
          "base_uri": "https://localhost:8080/",
          "height": 58
        },
        "id": "hf7L71o1te-N",
        "outputId": "00c0a14b-e75e-41d2-e5bb-dbdc3f7959be"
      },
      "outputs": [
        {
          "output_type": "execute_result",
          "data": {
            "text/plain": [
              "Matrix([\n",
              "[1, 2],\n",
              "[4, 5]])"
            ],
            "text/latex": "$\\displaystyle \\left[\\begin{matrix}1 & 2\\\\4 & 5\\end{matrix}\\right]$"
          },
          "metadata": {},
          "execution_count": 11
        }
      ],
      "source": [
        "M22 = k2.minor_submatrix(2, 2) # calculate minor M22\n",
        "M22"
      ]
    },
    {
      "cell_type": "markdown",
      "metadata": {
        "id": "2UVcYchcte-P"
      },
      "source": [
        "**Cofactor** of element $a_{ij} = (-1)^{i+j} \\, M_{ij}$, which is the minor multiplied by $(-1)^{i+j}$.\n",
        "\n",
        "**Rank of a Matrix** is the largest degree of a non-zero minor of the matrix. The rank of a matrix is equal to the number of linearly independent rows or columns in the matrix."
      ]
    },
    {
      "cell_type": "code",
      "execution_count": null,
      "metadata": {
        "colab": {
          "base_uri": "https://localhost:8080/"
        },
        "id": "xspCEelste-P",
        "outputId": "8880f84f-eb53-4d0e-abd8-2bba19c9b1f7"
      },
      "outputs": [
        {
          "output_type": "execute_result",
          "data": {
            "text/plain": [
              "2"
            ]
          },
          "metadata": {},
          "execution_count": 12
        }
      ],
      "source": [
        "k2.rank() # calculate the rank of matrix k2"
      ]
    },
    {
      "cell_type": "markdown",
      "metadata": {
        "id": "MSnEg7RGte-R"
      },
      "source": [
        "### Inverse of a 3x3 Matrix\n",
        "\n",
        "Using the transpose of the cofactor matrix (minors):\n",
        "\n",
        "$$K^{-1} =\n",
        "\\begin{bmatrix}\n",
        "a & b & c \\\\\n",
        "d & e & f \\\\\n",
        "g & h & i\n",
        "\\end{bmatrix}^{-1}\n",
        "= \\frac{1}{\\det(\\mathbf{K})}\n",
        "\\begin{bmatrix}\n",
        "A & B & C \\\\\n",
        "D & E & F \\\\\n",
        "G & H & I\n",
        "\\end{bmatrix}^T\n",
        "= \\frac{1}{\\det(\\mathbf{A})}\n",
        "\\begin{bmatrix}\n",
        "A & D & G \\\\\n",
        "B & E & H \\\\\n",
        "C & F & I\n",
        "\\end{bmatrix}\n",
        "$$\n",
        "\n",
        "If the determinant is non-zero, the matrix is invertible, and the elements of the intermediate matrix on the right-hand side of the above formula are determined by:\n",
        "\n",
        "$$\n",
        "\\begin{aligned}\n",
        "A &= \\text{det} \\left( \\begin{bmatrix} e & f \\\\ h & i \\end{bmatrix} \\right) & B &= -\\text{det} \\left( \\begin{bmatrix} d & f \\\\ g & i \\end{bmatrix} \\right) & C &= \\text{det} \\left( \\begin{bmatrix} d & e \\\\ g & h \\end{bmatrix} \\right) \\\\\n",
        "D &= -\\text{det} \\left( \\begin{bmatrix} b & c \\\\ h & i \\end{bmatrix} \\right) & E &= \\text{det} \\left( \\begin{bmatrix} a & c \\\\ g & i \\end{bmatrix} \\right) & F &= -\\text{det} \\left( \\begin{bmatrix} a & b \\\\ g & h \\end{bmatrix} \\right) \\\\\n",
        "G &= \\text{det} \\left( \\begin{bmatrix} b & c \\\\ e & f \\end{bmatrix} \\right) & H &= -\\text{det} \\left( \\begin{bmatrix} a & c \\\\ d & f \\end{bmatrix} \\right) & I &= \\text{det} \\left( \\begin{bmatrix} a & b \\\\ d & e \\end{bmatrix} \\right)\n",
        "\\end{aligned}\n",
        "$$\n",
        "\n",
        "These are the determinants of 2x2 matrices formed by removing the appropriate rows and columns and taking into account the sign $(-1)^{i+j}$.\n",
        "\n",
        "### Inverse of a 2x2 Matrix\n",
        "\n",
        "Similarly, for a 2x2 matrix, the inverse can be calculated using the cofactor matrix:\n",
        "\n",
        "$$\n",
        "\\mathbf{L}^{-1} =\n",
        "\\begin{bmatrix}\n",
        "a & b \\\\\n",
        "c & d\n",
        "\\end{bmatrix}^{-1}\n",
        "= \\frac{1}{\\det(\\mathbf{L})}\n",
        "\\begin{bmatrix}\n",
        "D & C \\\\\n",
        "B & A\n",
        "\\end{bmatrix}^T\n",
        "= \\frac{1}{\\det(\\mathbf{L})}\n",
        "\\begin{bmatrix}\n",
        "D & B \\\\\n",
        "C & A\n",
        "\\end{bmatrix}\n",
        "$$\n",
        "\n",
        "where $\\det(\\mathbf{L}) = ad - bc$\n",
        "\n",
        "If the determinant is non-zero, the matrix is invertible, and the elements of the intermediate matrix are given as:\n",
        "\n",
        "$$\n",
        "\\begin{aligned}\n",
        "A &= \\text{det} \\begin{bmatrix} d \\end{bmatrix} = d, & B &= -\\text{det} \\begin{bmatrix} b \\end{bmatrix} = -b, & C &= -\\text{det} \\begin{bmatrix} c \\end{bmatrix} = -c, &\n",
        "D &= \\text{det} \\begin{bmatrix} a \\end{bmatrix} = a.\n",
        "\\end{aligned}\n",
        "$$\n",
        "\n",
        "These elements are determined by calculating the determinants of 1x1 matrices formed by removing the appropriate rows and columns from the original 2x2 matrix and applying the corresponding signs $(-1)^{i+j}$."
      ]
    },
    {
      "cell_type": "markdown",
      "metadata": {
        "id": "vd0504kHte-S"
      },
      "source": [
        "---\n",
        "\n",
        "## Exercises for Students\n",
        "\n",
        "1. Find the inverse matrix for\n",
        "\n",
        "$$\n",
        "\\begin{bmatrix}\n",
        "2 & 0 & 1 \\\\\n",
        "0 & 1 & 0 \\\\\n",
        "1 & 2 & 0\n",
        "\\end{bmatrix}\n",
        "$$\n",
        "\n",
        "and verify if the result is correct.\n",
        "\n",
        "2. Using the `det()` command, determine the rank of the matrix below\n",
        "$$\n",
        "A =\n",
        "\\begin{bmatrix}\n",
        "4 & -3 & 7 \\\\\n",
        "-1 & 6 & 3 \\\\\n",
        "2 & 9 & 1\n",
        "\\end{bmatrix}\n",
        "$$"
      ]
    },
    {
      "cell_type": "code",
      "source": [
        "import sympy as sp\n",
        "Matrix =sp.Matrix ([[2,0,1],[0,1,0],[1,2,0]])\n",
        "#assign the determinant of Matrix to the variable det\n",
        "det = Matrix.det()\n",
        "# select the fisrt row [2,0,1]\n",
        "det  = 0-0-1\n",
        "print(det)\n"
      ],
      "metadata": {
        "id": "OsLcmCmKt3S7",
        "outputId": "1ecf5cb7-375f-4429-b2df-4a569702a8ff",
        "colab": {
          "base_uri": "https://localhost:8080/"
        }
      },
      "execution_count": 27,
      "outputs": [
        {
          "output_type": "stream",
          "name": "stdout",
          "text": [
            "-1\n"
          ]
        }
      ]
    },
    {
      "cell_type": "markdown",
      "source": [
        "calculate the cofactor determinants\n",
        ":[2 0 1\n",
        "\n",
        "---\n",
        "\n",
        "\n",
        "\n",
        "---\n",
        "\n"
      ],
      "metadata": {
        "id": "csPSpbc5Z0IE"
      }
    },
    {
      "source": [
        "import sympy as sp\n",
        "\n",
        "Matrix = sp.Matrix([[2, 0, 1], [0, 1, 0], [1, 2, 0]])\n",
        "\n",
        "# Calculate the cofactor matrix manually\n",
        "cofactor_matrix = sp.Matrix([\n",
        "    [(Matrix.minor(0, 0) * (-1)**(0+0)), (Matrix.minor(0, 1) * (-1)**(0+1)), (Matrix.minor(0, 2) * (-1)**(0+2))],\n",
        "    [(Matrix.minor(1, 0) * (-1)**(1+0)), (Matrix.minor(1, 1) * (-1)**(1+1)), (Matrix.minor(1, 2) * (-1)**(1+2))],\n",
        "    [(Matrix.minor(2, 0) * (-1)**(2+0)), (Matrix.minor(2, 1) * (-1)**(2+1)), (Matrix.minor(2, 2) * (-1)**(2+2))]\n",
        "])\n",
        "\n",
        "# Calculate the adjugate matrix\n",
        "Adj_Matrix = cofactor_matrix\n",
        "\n",
        "# Display the adjugate matrix\n",
        "Adj_Matrix"
      ],
      "cell_type": "code",
      "metadata": {
        "id": "OuiJ20ORcH1J",
        "outputId": "2e7e21da-cae3-4547-bc24-2c683e94f15a",
        "colab": {
          "base_uri": "https://localhost:8080/",
          "height": 78
        }
      },
      "execution_count": 46,
      "outputs": [
        {
          "output_type": "execute_result",
          "data": {
            "text/plain": [
              "Matrix([\n",
              "[ 0,  0, -1],\n",
              "[ 2, -1, -4],\n",
              "[-1,  0,  2]])"
            ],
            "text/latex": "$\\displaystyle \\left[\\begin{matrix}0 & 0 & -1\\\\2 & -1 & -4\\\\-1 & 0 & 2\\end{matrix}\\right]$"
          },
          "metadata": {},
          "execution_count": 46
        }
      ]
    },
    {
      "cell_type": "code",
      "source": [
        "#calculate the adjugate matrix transpose\n",
        "Adj_Matrix.transpose()"
      ],
      "metadata": {
        "id": "qaRDY5UVcwsL",
        "outputId": "8bc894b0-3000-4608-f970-5f7b6c68ed21",
        "colab": {
          "base_uri": "https://localhost:8080/",
          "height": 78
        }
      },
      "execution_count": 47,
      "outputs": [
        {
          "output_type": "execute_result",
          "data": {
            "text/plain": [
              "Matrix([\n",
              "[ 0,  2, -1],\n",
              "[ 0, -1,  0],\n",
              "[-1, -4,  2]])"
            ],
            "text/latex": "$\\displaystyle \\left[\\begin{matrix}0 & 2 & -1\\\\0 & -1 & 0\\\\-1 & -4 & 2\\end{matrix}\\right]$"
          },
          "metadata": {},
          "execution_count": 47
        }
      ]
    },
    {
      "cell_type": "code",
      "source": [
        "import sympy as sp\n",
        "\n",
        "Matrix = sp.Matrix([[2, 0, 1], [0, 1, 0], [1, 2, 0]])\n",
        "# Calculate the matrix inverse\n",
        "inverse_matrix = Matrix.inv()\n",
        "\n",
        "# Display the inverse matrix\n",
        "inverse_matrix\n"
      ],
      "metadata": {
        "id": "4MAI9XiKdH3H",
        "outputId": "537dcd3e-24cb-48c5-8e73-bfaf2bc4a64b",
        "colab": {
          "base_uri": "https://localhost:8080/",
          "height": 78
        }
      },
      "execution_count": 10,
      "outputs": [
        {
          "output_type": "execute_result",
          "data": {
            "text/plain": [
              "Matrix([\n",
              "[0, -2,  1],\n",
              "[0,  1,  0],\n",
              "[1,  4, -2]])"
            ],
            "text/latex": "$\\displaystyle \\left[\\begin{matrix}0 & -2 & 1\\\\0 & 1 & 0\\\\1 & 4 & -2\\end{matrix}\\right]$"
          },
          "metadata": {},
          "execution_count": 10
        }
      ]
    },
    {
      "cell_type": "code",
      "source": [
        "Matrix*inverse_matrix # verify if multiplying the matrix by its inverse yields the identity matrix"
      ],
      "metadata": {
        "id": "0joyFwKQ83KK",
        "outputId": "32addf11-2fa8-4462-f972-312f8edd0b67",
        "colab": {
          "base_uri": "https://localhost:8080/",
          "height": 78
        }
      },
      "execution_count": 13,
      "outputs": [
        {
          "output_type": "execute_result",
          "data": {
            "text/plain": [
              "Matrix([\n",
              "[1, 0, 0],\n",
              "[0, 1, 0],\n",
              "[0, 0, 1]])"
            ],
            "text/latex": "$\\displaystyle \\left[\\begin{matrix}1 & 0 & 0\\\\0 & 1 & 0\\\\0 & 0 & 1\\end{matrix}\\right]$"
          },
          "metadata": {},
          "execution_count": 13
        }
      ]
    },
    {
      "cell_type": "markdown",
      "source": [],
      "metadata": {
        "id": "nXLfK5NR_Ohy"
      }
    },
    {
      "cell_type": "code",
      "source": [
        "import sympy as sp\n",
        "\n",
        "A_matrix=sp.Matrix(([4,-3,7],[-1,6,3],[2,9,1]))\n",
        "#calculate the determinant of A matrix\n",
        "#select the fisrt row[4,-3,7]\n",
        "Adet = 4*(6*1 - 3*9) - (-3)*(-1*1 - 3*2) + 7*(-1*9 - 6*2)\n",
        "print (Adet)\n"
      ],
      "metadata": {
        "id": "9uq9VZUpDuF-",
        "outputId": "c75ec46e-9b63-4522-ee6f-15fa40b6d08f",
        "colab": {
          "base_uri": "https://localhost:8080/"
        }
      },
      "execution_count": 15,
      "outputs": [
        {
          "output_type": "stream",
          "name": "stdout",
          "text": [
            "-252\n"
          ]
        }
      ]
    },
    {
      "cell_type": "code",
      "source": [
        "# Determine the rank of A\n",
        "rank_A = A_matrix.rank()\n",
        "rank_A"
      ],
      "metadata": {
        "id": "uiR1djRCFV0i",
        "outputId": "39cf2ad1-6cbc-4cce-bd50-cc27b795e67b",
        "colab": {
          "base_uri": "https://localhost:8080/"
        }
      },
      "execution_count": 18,
      "outputs": [
        {
          "output_type": "execute_result",
          "data": {
            "text/plain": [
              "3"
            ]
          },
          "metadata": {},
          "execution_count": 18
        }
      ]
    }
  ],
  "metadata": {
    "kernelspec": {
      "display_name": "Python 3",
      "language": "python",
      "name": "python3"
    },
    "language_info": {
      "codemirror_mode": {
        "name": "ipython",
        "version": 3
      },
      "file_extension": ".py",
      "mimetype": "text/x-python",
      "name": "python",
      "nbconvert_exporter": "python",
      "pygments_lexer": "ipython3",
      "version": "3.11.9"
    },
    "colab": {
      "provenance": [],
      "include_colab_link": true
    }
  },
  "nbformat": 4,
  "nbformat_minor": 0
}