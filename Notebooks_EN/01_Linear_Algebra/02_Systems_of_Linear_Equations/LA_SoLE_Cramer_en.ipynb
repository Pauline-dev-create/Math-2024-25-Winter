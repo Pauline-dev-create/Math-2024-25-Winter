{
  "cells": [
    {
      "cell_type": "markdown",
      "metadata": {
        "id": "view-in-github",
        "colab_type": "text"
      },
      "source": [
        "<a href=\"https://colab.research.google.com/github/Pauline-dev-create/Math-2024-25-Winter/blob/main/Notebooks_EN/01_Linear_Algebra/02_Systems_of_Linear_Equations/LA_SoLE_Cramer_en.ipynb\" target=\"_parent\"><img src=\"https://colab.research.google.com/assets/colab-badge.svg\" alt=\"Open In Colab\"/></a>"
      ]
    },
    {
      "cell_type": "markdown",
      "metadata": {
        "id": "OnbcoxiNtY7O"
      },
      "source": [
        "# Cramer's Rule - Examples for 2x2, 3x3, and 4x4 Systems\n",
        "\n",
        "Cramer's rule is used only when the number of equations is equal to the number of unknowns. In other words, the coefficient matrix must be a square matrix.\n",
        "\n",
        "**These formulas are used only** when the **determinant** of the coefficient matrix is **non-zero**. Otherwise, the system of equations is either inconsistent or indeterminate.\n",
        "\n",
        "## 2x2 System of Equations\n",
        "\n",
        "Consider a system of two equations with two unknowns:\n",
        "\n",
        "$$\n",
        "\\begin{cases}\n",
        "a_{11}x_1 + a_{12}x_2 = b_1 \\\\\n",
        "a_{21}x_1 + a_{22}x_2 = b_2\n",
        "\\end{cases}\n",
        "$$\n",
        "\n",
        "Cramer's rule for the unknowns $ x_1 $ and $ x_2 $ is as follows:\n",
        "\n",
        "$$\n",
        "x_1 = \\frac{\\det(A_1)}{\\det(A)} \\quad \\text{and} \\quad x_2 = \\frac{\\det(A_2)}{\\det(A)}\n",
        "$$\n",
        "\n",
        "Where:\n",
        "\n",
        "$$\n",
        "\\det(A) =\n",
        "\\begin{vmatrix}\n",
        "a_{11} & a_{12} \\\\\n",
        "a_{21} & a_{22}\n",
        "\\end{vmatrix}\n",
        "= a_{11}a_{22} - a_{12}a_{21}\n",
        "$$\n",
        "\n",
        "$$\n",
        "\\det(A_1) =\n",
        "\\begin{vmatrix}\n",
        "b_1 & a_{12} \\\\\n",
        "b_2 & a_{22}\n",
        "\\end{vmatrix}\n",
        "= b_1a_{22} - a_{12}b_2\n",
        "$$\n",
        "\n",
        "$$\n",
        "\\det(A_2) =\n",
        "\\begin{vmatrix}\n",
        "a_{11} & b_1 \\\\\n",
        "a_{21} & b_2\n",
        "\\end{vmatrix}\n",
        "= a_{11}b_2 - b_1a_{21}\n",
        "$$\n",
        "\n",
        "## 3x3 System of Equations\n",
        "\n",
        "Consider a system of three equations with three unknowns:\n",
        "\n",
        "$$\n",
        "\\begin{cases}\n",
        "a_{11}x_1 + a_{12}x_2 + a_{13}x_3 = b_1 \\\\\n",
        "a_{21}x_1 + a_{22}x_2 + a_{23}x_3 = b_2 \\\\\n",
        "a_{31}x_1 + a_{32}x_2 + a_{33}x_3 = b_3\n",
        "\\end{cases}\n",
        "$$\n",
        "\n",
        "Cramer's rule for $ x_1 $, $ x_2 $, and $ x_3 $:\n",
        "\n",
        "$$\n",
        "x_1 = \\frac{\\det(A_1)}{\\det(A)} \\quad x_2 = \\frac{\\det(A_2)}{\\det(A)} \\quad x_3 = \\frac{\\det(A_3)}{\\det(A)}\n",
        "$$\n",
        "\n",
        "Where:\n",
        "\n",
        "$$\n",
        "\\det(A) =\n",
        "\\begin{vmatrix}\n",
        "a_{11} & a_{12} & a_{13} \\\\\n",
        "a_{21} & a_{22} & a_{23} \\\\\n",
        "a_{31} & a_{32} & a_{33}\n",
        "\\end{vmatrix}\n",
        "$$\n",
        "\n",
        "$$\n",
        "\\det(A_1) =\n",
        "\\begin{vmatrix}\n",
        "b_1 & a_{12} & a_{13} \\\\\n",
        "b_2 & a_{22} & a_{23} \\\\\n",
        "b_3 & a_{32} & a_{33}\n",
        "\\end{vmatrix}\n",
        "$$\n",
        "\n",
        "$$\n",
        "\\det(A_2) =\n",
        "\\begin{vmatrix}\n",
        "a_{11} & b_1 & a_{13} \\\\\n",
        "a_{21} & b_2 & a_{23} \\\\\n",
        "a_{31} & b_3 & a_{33}\n",
        "\\end{vmatrix}\n",
        "$$\n",
        "\n",
        "$$\n",
        "\\det(A_3) =\n",
        "\\begin{vmatrix}\n",
        "a_{11} & a_{12} & b_1 \\\\\n",
        "a_{21} & a_{22} & b_2 \\\\\n",
        "a_{31} & a_{32} & b_3\n",
        "\\end{vmatrix}\n",
        "$$\n",
        "\n",
        "## 4x4 System of Equations\n",
        "\n",
        "Consider a system of four equations with four unknowns:\n",
        "\n",
        "$$\n",
        "\\begin{cases}\n",
        "a_{11}x_1 + a_{12}x_2 + a_{13}x_3 + a_{14}x_4 = b_1 \\\\\n",
        "a_{21}x_1 + a_{22}x_2 + a_{23}x_3 + a_{24}x_4 = b_2 \\\\\n",
        "a_{31}x_1 + a_{32}x_2 + a_{33}x_3 + a_{34}x_4 = b_3 \\\\\n",
        "a_{41}x_1 + a_{42}x_2 + a_{43}x_3 + a_{44}x_4 = b_4\n",
        "\\end{cases}\n",
        "$$\n",
        "\n",
        "Cramer's rule for $ x_1 $, $ x_2 $, $ x_3 $, and $ x_4 $:\n",
        "\n",
        "$$\n",
        "x_1 = \\frac{\\det(A_1)}{\\det(A)} \\quad x_2 = \\frac{\\det(A_2)}{\\det(A)} \\quad x_3 = \\frac{\\det(A_3)}{\\det(A)} \\quad x_4 = \\frac{\\det(A_4)}{\\det(A)}\n",
        "$$\n",
        "\n",
        "Where:\n",
        "\n",
        "$$\n",
        "\\det(A) =\n",
        "\\begin{vmatrix}\n",
        "a_{11} & a_{12} & a_{13} & a_{14} \\\\\n",
        "a_{21} & a_{22} & a_{23} & a_{24} \\\\\n",
        "a_{31} & a_{32} & a_{33} & a_{34} \\\\\n",
        "a_{41} & a_{42} & a_{43} & a_{44}\n",
        "\\end{vmatrix}\n",
        "$$\n",
        "\n",
        "$$\n",
        "\\det(A_1) =\n",
        "\\begin{vmatrix}\n",
        "b_1 & a_{12} & a_{13} & a_{14} \\\\\n",
        "b_2 & a_{22} & a_{23} & a_{24} \\\\\n",
        "b_3 & a_{32} & a_{33} & a_{34} \\\\\n",
        "b_4 & a_{42} & a_{43} & a_{44}\n",
        "\\end{vmatrix}\n",
        "$$\n",
        "\n",
        "$$\n",
        "\\det(A_2) =\n",
        "\\begin{vmatrix}\n",
        "a_{11} & b_1 & a_{13} & a_{14} \\\\\n",
        "a_{21} & b_2 & a_{23} & a_{24} \\\\\n",
        "a_{31} & b_3 & a_{33} & a_{34} \\\\\n",
        "a_{41} & b_4 & a_{43} & a_{44}\n",
        "\\end{vmatrix}\n",
        "$$\n",
        "\n",
        "$$\n",
        "\\det(A_3) =\n",
        "\\begin{vmatrix}\n",
        "a_{11} & a_{12} & b_1 & a_{14} \\\\\n",
        "a_{21} & a_{22} & b_2 & a_{24} \\\\\n",
        "a_{31} & a_{32} & b_3 & a_{34} \\\\\n",
        "a_{41} & a_{42} & b_4 & a_{44}\n",
        "\\end{vmatrix}\n",
        "$$\n",
        "\n",
        "$$\n",
        "\\det(A_4) =\n",
        "\\begin{vmatrix}\n",
        "a_{11} & a_{12} & a_{13} & b_1 \\\\\n",
        "a_{21} & a_{22} & a_{23} & b_2 \\\\\n",
        "a_{31} & a_{32} & a_{33} & b_3 \\\\\n",
        "a_{41} & a_{42} & a_{43} & b_4\n",
        "\\end{vmatrix}\n",
        "$$\n",
        "\n",
        "## Example"
      ]
    },
    {
      "cell_type": "code",
      "execution_count": null,
      "metadata": {
        "id": "YtO3kPWvtY7U"
      },
      "outputs": [],
      "source": [
        "import sympy as sp\n",
        "\n",
        "# Define symbols\n",
        "x, y, z = sp.symbols('x y z')\n",
        "\n",
        "# Define the system of equations\n",
        "eq1 = sp.Eq(2*x + 3*y + z, 1)\n",
        "eq2 = sp.Eq(3*x + 2*y + 2*z, 2)\n",
        "eq3 = sp.Eq(x + y + z, 3)\n",
        "\n",
        "# Coefficient matrix of the system\n",
        "A = sp.Matrix([[2, 3, 1], [3, 2, 2], [1, 1, 1]])\n",
        "# Free terms vector\n",
        "b = sp.Matrix([1, 2, 3])"
      ]
    },
    {
      "cell_type": "code",
      "execution_count": null,
      "metadata": {
        "id": "5xVys8MjtY7W",
        "outputId": "b202ed2a-39a0-4347-b170-9b169e192ecf",
        "colab": {
          "base_uri": "https://localhost:8080/",
          "height": 141
        }
      },
      "outputs": [
        {
          "output_type": "error",
          "ename": "NameError",
          "evalue": "name 'A' is not defined",
          "traceback": [
            "\u001b[0;31m---------------------------------------------------------------------------\u001b[0m",
            "\u001b[0;31mNameError\u001b[0m                                 Traceback (most recent call last)",
            "\u001b[0;32m<ipython-input-1-7d157d7c000a>\u001b[0m in \u001b[0;36m<cell line: 1>\u001b[0;34m()\u001b[0m\n\u001b[0;32m----> 1\u001b[0;31m \u001b[0mA\u001b[0m\u001b[0;34m\u001b[0m\u001b[0;34m\u001b[0m\u001b[0m\n\u001b[0m",
            "\u001b[0;31mNameError\u001b[0m: name 'A' is not defined"
          ]
        }
      ],
      "source": [
        "A"
      ]
    },
    {
      "cell_type": "code",
      "execution_count": null,
      "metadata": {
        "id": "2lXm3H43tY7Y",
        "outputId": "e32c27fc-8e1f-4edd-d697-342a2b1f741f"
      },
      "outputs": [
        {
          "data": {
            "text/latex": [
              "$\\displaystyle \\left[\\begin{matrix}1\\\\2\\\\3\\end{matrix}\\right]$"
            ],
            "text/plain": [
              "Matrix([\n",
              "[1],\n",
              "[2],\n",
              "[3]])"
            ]
          },
          "execution_count": 3,
          "metadata": {},
          "output_type": "execute_result"
        }
      ],
      "source": [
        "b"
      ]
    },
    {
      "cell_type": "code",
      "execution_count": null,
      "metadata": {
        "id": "MhB6K5WytY7Z",
        "outputId": "b13c20aa-f591-48b8-c4e3-957b115b8e93",
        "colab": {
          "base_uri": "https://localhost:8080/",
          "height": 193
        }
      },
      "outputs": [
        {
          "output_type": "error",
          "ename": "NameError",
          "evalue": "name 'A' is not defined",
          "traceback": [
            "\u001b[0;31m---------------------------------------------------------------------------\u001b[0m",
            "\u001b[0;31mNameError\u001b[0m                                 Traceback (most recent call last)",
            "\u001b[0;32m<ipython-input-2-6b8bca6bbe37>\u001b[0m in \u001b[0;36m<cell line: 2>\u001b[0;34m()\u001b[0m\n\u001b[1;32m      1\u001b[0m \u001b[0;31m# Define matrix A_1\u001b[0m\u001b[0;34m\u001b[0m\u001b[0;34m\u001b[0m\u001b[0m\n\u001b[0;32m----> 2\u001b[0;31m \u001b[0mA_1\u001b[0m \u001b[0;34m=\u001b[0m \u001b[0mA\u001b[0m\u001b[0;34m.\u001b[0m\u001b[0mcopy\u001b[0m\u001b[0;34m(\u001b[0m\u001b[0;34m)\u001b[0m \u001b[0;31m# Copy matrix A\u001b[0m\u001b[0;34m\u001b[0m\u001b[0;34m\u001b[0m\u001b[0m\n\u001b[0m\u001b[1;32m      3\u001b[0m \u001b[0mA_1\u001b[0m\u001b[0;34m[\u001b[0m\u001b[0;34m:\u001b[0m\u001b[0;34m,\u001b[0m \u001b[0;36m0\u001b[0m\u001b[0;34m]\u001b[0m \u001b[0;34m=\u001b[0m \u001b[0mb\u001b[0m \u001b[0;31m# Replace the first column of A with vector b\u001b[0m\u001b[0;34m\u001b[0m\u001b[0;34m\u001b[0m\u001b[0m\n\u001b[1;32m      4\u001b[0m \u001b[0mA_1\u001b[0m \u001b[0;31m# Check if the replacement was successful\u001b[0m\u001b[0;34m\u001b[0m\u001b[0;34m\u001b[0m\u001b[0m\n",
            "\u001b[0;31mNameError\u001b[0m: name 'A' is not defined"
          ]
        }
      ],
      "source": [
        "# Define matrix A_1\n",
        "A_1 = A.copy() # Copy matrix A\n",
        "A_1[:, 0] = b # Replace the first column of A with vector b\n",
        "A_1 # Check if the replacement was successful"
      ]
    },
    {
      "cell_type": "code",
      "execution_count": null,
      "metadata": {
        "id": "_tymTKgDtY7Z"
      },
      "outputs": [],
      "source": [
        "det_A_1 = A_1.det() # Calculate determinant of A_1\n",
        "sol_x = det_A_1 / A.det() # Calculate x_1\n",
        "sol_x # Calculated value of x_1"
      ]
    },
    {
      "cell_type": "code",
      "execution_count": null,
      "metadata": {
        "id": "PNxyscnitY7a"
      },
      "outputs": [],
      "source": [
        "# Similarly for y\n",
        "A_2 = A.copy()\n",
        "A_2[:, 1] = b\n",
        "A_2 # Check if the replacement was successful"
      ]
    },
    {
      "cell_type": "code",
      "execution_count": null,
      "metadata": {
        "id": "CdOMCJVptY7b",
        "outputId": "de1230b8-6e1f-4b3d-c929-6ba1d7ed9525",
        "colab": {
          "base_uri": "https://localhost:8080/",
          "height": 176
        }
      },
      "outputs": [
        {
          "output_type": "error",
          "ename": "NameError",
          "evalue": "name 'A_2' is not defined",
          "traceback": [
            "\u001b[0;31m---------------------------------------------------------------------------\u001b[0m",
            "\u001b[0;31mNameError\u001b[0m                                 Traceback (most recent call last)",
            "\u001b[0;32m<ipython-input-3-5cc7581ba508>\u001b[0m in \u001b[0;36m<cell line: 1>\u001b[0;34m()\u001b[0m\n\u001b[0;32m----> 1\u001b[0;31m \u001b[0mdet_A_2\u001b[0m \u001b[0;34m=\u001b[0m \u001b[0mA_2\u001b[0m\u001b[0;34m.\u001b[0m\u001b[0mdet\u001b[0m\u001b[0;34m(\u001b[0m\u001b[0;34m)\u001b[0m\u001b[0;34m\u001b[0m\u001b[0;34m\u001b[0m\u001b[0m\n\u001b[0m\u001b[1;32m      2\u001b[0m \u001b[0msol_y\u001b[0m \u001b[0;34m=\u001b[0m \u001b[0mdet_A_2\u001b[0m \u001b[0;34m/\u001b[0m \u001b[0mA\u001b[0m\u001b[0;34m.\u001b[0m\u001b[0mdet\u001b[0m\u001b[0;34m(\u001b[0m\u001b[0;34m)\u001b[0m\u001b[0;34m\u001b[0m\u001b[0;34m\u001b[0m\u001b[0m\n\u001b[1;32m      3\u001b[0m \u001b[0msol_y\u001b[0m\u001b[0;34m\u001b[0m\u001b[0;34m\u001b[0m\u001b[0m\n",
            "\u001b[0;31mNameError\u001b[0m: name 'A_2' is not defined"
          ]
        }
      ],
      "source": [
        "det_A_2 = A_2.det()\n",
        "sol_y = det_A_2 / A.det()\n",
        "sol_y"
      ]
    },
    {
      "cell_type": "code",
      "execution_count": null,
      "metadata": {
        "id": "3LUstUVotY7b",
        "outputId": "72cabc44-2209-4f6a-a68c-565f7d07f5d8",
        "colab": {
          "base_uri": "https://localhost:8080/",
          "height": 211
        }
      },
      "outputs": [
        {
          "output_type": "error",
          "ename": "NameError",
          "evalue": "name 'A' is not defined",
          "traceback": [
            "\u001b[0;31m---------------------------------------------------------------------------\u001b[0m",
            "\u001b[0;31mNameError\u001b[0m                                 Traceback (most recent call last)",
            "\u001b[0;32m<ipython-input-4-954119f165b0>\u001b[0m in \u001b[0;36m<cell line: 2>\u001b[0;34m()\u001b[0m\n\u001b[1;32m      1\u001b[0m \u001b[0;31m# Finally for z\u001b[0m\u001b[0;34m\u001b[0m\u001b[0;34m\u001b[0m\u001b[0m\n\u001b[0;32m----> 2\u001b[0;31m \u001b[0mA_3\u001b[0m \u001b[0;34m=\u001b[0m \u001b[0mA\u001b[0m\u001b[0;34m.\u001b[0m\u001b[0mcopy\u001b[0m\u001b[0;34m(\u001b[0m\u001b[0;34m)\u001b[0m\u001b[0;34m\u001b[0m\u001b[0;34m\u001b[0m\u001b[0m\n\u001b[0m\u001b[1;32m      3\u001b[0m \u001b[0mA_3\u001b[0m\u001b[0;34m[\u001b[0m\u001b[0;34m:\u001b[0m\u001b[0;34m,\u001b[0m \u001b[0;36m2\u001b[0m\u001b[0;34m]\u001b[0m \u001b[0;34m=\u001b[0m \u001b[0mb\u001b[0m\u001b[0;34m\u001b[0m\u001b[0;34m\u001b[0m\u001b[0m\n\u001b[1;32m      4\u001b[0m \u001b[0mdet_A_3\u001b[0m \u001b[0;34m=\u001b[0m \u001b[0mA_3\u001b[0m\u001b[0;34m.\u001b[0m\u001b[0mdet\u001b[0m\u001b[0;34m(\u001b[0m\u001b[0;34m)\u001b[0m\u001b[0;34m\u001b[0m\u001b[0;34m\u001b[0m\u001b[0m\n\u001b[1;32m      5\u001b[0m \u001b[0msol_z\u001b[0m \u001b[0;34m=\u001b[0m \u001b[0mdet_A_3\u001b[0m \u001b[0;34m/\u001b[0m \u001b[0mA\u001b[0m\u001b[0;34m.\u001b[0m\u001b[0mdet\u001b[0m\u001b[0;34m(\u001b[0m\u001b[0;34m)\u001b[0m\u001b[0;34m\u001b[0m\u001b[0;34m\u001b[0m\u001b[0m\n",
            "\u001b[0;31mNameError\u001b[0m: name 'A' is not defined"
          ]
        }
      ],
      "source": [
        "# Finally for z\n",
        "A_3 = A.copy()\n",
        "A_3[:, 2] = b\n",
        "det_A_3 = A_3.det()\n",
        "sol_z = det_A_3 / A.det()\n",
        "sol_z"
      ]
    },
    {
      "cell_type": "code",
      "execution_count": null,
      "metadata": {
        "id": "1gL0PRZotY7c",
        "outputId": "fe125518-7cce-461d-ca74-c8b53f45a248"
      },
      "outputs": [
        {
          "data": {
            "text/plain": [
              "{x: -4, y: 1, z: 6}"
            ]
          },
          "execution_count": 9,
          "metadata": {},
          "output_type": "execute_result"
        }
      ],
      "source": [
        "# Solve the system of equations\n",
        "sp.solve((eq1, eq2, eq3), (x, y, z))"
      ]
    },
    {
      "cell_type": "markdown",
      "metadata": {
        "id": "Qe-gVYNotY7d"
      },
      "source": [
        "---\n",
        "\n",
        "## Exercises for Students\n",
        "\n",
        "1. Solve the system of equations:\n",
        "   $$\n",
        "   \\begin{cases}\n",
        "   2x_1 - 3x_2 = 7 \\\\\n",
        "   3x_1 + 5x_2 = 2\n",
        "   \\end{cases}\n",
        "   $$\n",
        "\n",
        "2. Solve the system of equations:\n",
        "   $$\n",
        "   \\begin{cases}\n",
        "   2x + y - z = 1 \\\\\n",
        "   x - y + 2z = 4 \\\\\n",
        "   3x - 2z = -1\n",
        "   \\end{cases}\n",
        "   $$\n",
        "\n",
        "3. Solve the system of equations:\n",
        "   $$\n",
        "   \\begin{cases}\n",
        "   x + y + z - t = 2 \\\\\n",
        "   x - z + 2t = 6 \\\\\n",
        "   2x - 3y + t = 4 \\\\\n",
        "   3x + y + 3z - 4t = -2\n",
        "   \\end{cases}\n",
        "   $$\n",
        "\n",
        "4. Why can't the following system of equations be solved using Cramer's rule?\n",
        "$$\n",
        "\\begin{cases}\n",
        "x_1 + 2x_2 + 3x_3 = 3 \\\\\n",
        "4x_1 + 5x_2 + 6x_3 = 2 \\\\\n",
        "7x_1 + 8x_2 + 9x_3 = 1\n",
        "\\end{cases}\n",
        "$$\n",
        "\n",
        "$A=\\begin{bmatrix}\n",
        "1&2&3\\\\\n",
        "4&5&6\\\\\n",
        "7&8&9\\\\\n",
        "\\end{bmatrix}$\n",
        "\n",
        "Calculate the determinant of A\n",
        "$\\det(A)=1\\cdot(5\\cdot9-6\\cdot8)-2\\cdot(4\\cdot9-6\\cdot7)+3\\cdot(4\\cdot8-5\\cdot7)$\n",
        "\n",
        "$5\\cdot9-6\\cdot8=45-48=-3$\n",
        "\n",
        "$4\\cdot9-6\\cdot7=36-42=-6$\n",
        "\n",
        "$4\\cdot8-5\\cdot7=32-35=-3$\n",
        "\n",
        "$\\det(A)=1\\cdot(-3)-2\\cdot(-6)+3\\cdot(-3)=-3+12-9=0$\n",
        "\n",
        "$\\det(A)=0$\n",
        "\n",
        "Since determinant A = 0, the coefficient of A is singilur meaning it does not have an inverse .This reult indicates that the system of equations is either dependat or inconsistent hence Cramers rule cannot be applied to solve the equation\n"
      ]
    },
    {
      "cell_type": "markdown",
      "source": [
        "#Exercise\n",
        "\n",
        "$$1\n",
        "\\begin{cases}\n",
        "2x_1 - 3x_2 = 7 \\\\\n",
        "3x_1 + 5x_2 = 2\n",
        "\\end{cases}\n",
        "$$\n",
        "$\n",
        "\\begin{bmatrix} 2 & -3\\\\ 3 & 5\\end{bmatrix}\\cdot \\begin{bmatrix} x_1 \\\\ x_2\\end{bmatrix} =\\begin{bmatrix} 7\\\\2\\end{bmatrix}$\n",
        "$\n",
        "\n",
        "$A\\cdot X=C$\n",
        "\n",
        "$A^{-1}\\cdot A\\cdot X =A^{-1}\\cdot C\\$\n",
        "\n",
        "$X=A^{-1}\\cdot C$\n",
        "\n",
        "$A=\\begin{bmatrix} 2 & -3 \\\\ 3 & 5\\end{bmatrix} $\n",
        "\n",
        "$A^{-1} =\\frac{1}{det(A)}\\cdot \\begin{bmatrix} 5 & 3\\\\-3 & 2\\end{bmatrix}$\n",
        "  \n",
        "$ detA= 2\\cdot 5- (-3)\\cdot 3 = 19$\n",
        "\n",
        "$A^{-1} =\\frac{1}{19}\\cdot \\begin{bmatrix} 5 & 3\\\\-3 & 2\\end{bmatrix}$\n",
        "\n",
        "$=\\begin{bmatrix}\\frac{5}{19} & \\frac{3}{19}\\\\ \\frac{-3}{19} & \\frac{2}{19}\\end{bmatrix}$\n",
        "\n",
        "$X=\\begin{bmatrix}\\frac{5}{19} & \\frac{3}{19}\\\\ \\frac{-3}{19} & \\frac{2}{19}\\end{bmatrix} \\cdot \\begin{bmatrix} 7\\\\2\\end{bmatrix}=\\begin{bmatrix} \\frac{5}{19}\\cdot 7 + \\frac{3}{19}\\cdot 2\\\\ \\frac{-3}{19}\\cdot 7 +\\frac{2}{19}\\cdot2 \\end{bmatrix} = \\begin{bmatrix}\\frac{41}{19}\\\\\\frac{-17}{19}\\end{bmatrix}$\n",
        "\n",
        "$\n",
        "x=\\frac{41}{19} , y =\\frac{-17}{19}\n",
        "$\n",
        "\n",
        "\n",
        "\n",
        "2\n",
        "$$\\begin{cases}\n",
        "2 x + y - z = 1 \\\\\n",
        "x - y + 2 z = 4 \\\\\n",
        "3 x -2 z = -1\n",
        "\\end{cases}\n",
        "$$\n",
        "$AX=B$\n",
        "\n",
        "$A = \\begin{bmatrix} 2 & 1 & -1\\\\ 1 & -1 & 2\\\\ 3 & 0 & -2\\end{bmatrix},\\quad  X=\\begin{bmatrix} x \\\\ y \\\\z \\end{bmatrix},\\quad B = \\begin{bmatrix}1 \\\\ 4 \\\\\n",
        "-1 \\end{bmatrix}$\n",
        "\n",
        "$ Find determinant A$\n",
        "\n",
        "$detA = \\begin{vmatrix} -1 & 1 & -1 \\\\1 & -1 & 2 \\\\ 3 & 0 & -2 \\end{vmatrix}$\n",
        "\n",
        "$ = 2 \\begin{vmatrix} -1 & 2 \\\\ 0 & -2 \\end{vmatrix} - 1 \\begin{vmatrix} 1 & 2\\\\3 & -2 \\end{vmatrix} + (-1) \\begin{vmatrix} 1 & -1 \\\\ 3 & 0 \\end{vmatrix}$\n",
        "\n",
        "$ = \\begin{vmatrix} -1 & 2\\\\ 0 &-2\\end{vmatrix} = (-1)(-2) -(2)(0) =2 $\n",
        "\n",
        "$   \\begin{vmatrix} 1 & 2 \\\\ 3 & -2 \\end{vmatrix} = (1)(-2) - (2)(3) = -2 -6 = -8$\n",
        "\n",
        "$ \\begin{vmatrix} 1 & -1 \\\\ 3 & 0 \\end{vmatrix} =  (1)(0) - -(-1)(3) = 0+3= 3$\n",
        "\n",
        "$detA = 2(2)-1(-8)+(-1)(3) =9$\n",
        "\n",
        "$detA =-9$\n",
        "\n",
        "$ Find determinants det(A_x) , det(A_y) ,det(A_z) $\n",
        "\n",
        "$ det(A_x)=\\begin{bmatrix}1&1&-1\\\\4&-1&2\\\\-1&0&-2\\end{bmatrix}det(A_x) = 1 \\begin{vmatrix} -1 & 2 \\\\0 &-2\\end{vmatrix}-1 \\begin{vmatrix}4&2\\\\-1 &-2\\end{vmatrix}+(-1)\\begin{vmatrix}4 & -1 \\\\ -1 & 0\\end{vmatrix}$\n",
        "\n",
        "$\\begin{vmatrix}-1 & 2\\\\ 0 & -2 \\end{vmatrix} = (-1)(-2)-(0)(2)=2$\n",
        "\n",
        "$  \\begin{vmatrix} 4 & 2\\\\ -1 & -2\\end{vmatrix} = 4*-2-2*-8= -8$\n",
        "\n",
        "$ \\begin{vmatrix} 4 & -1\\\\-1 & 0\\end{vmatrix} = 4*0-(-1)*(-1) =  -1 $\n",
        "\n",
        "$det(A_x) = 1*2 - 1*-(6)- 1*(-1) = 2 + 6 + 1 = 9 $\n",
        "\n",
        "$det(A_x) = 9 $\n",
        "\n",
        "$det(A_y) =\\begin{bmatrix} 2 & 1 & -1 \\\\ 1 & 4 & 2\\\\ 3& -1 &- 2\\end{bmatrix}$\n",
        "$det(A_y) =2\\begin{vmatrix}4 & 2\\\\ -1 & -2\\end{vmatrix}-1\\begin{vmatrix} 1& 4\\\\3 & 2\\end{vmatrix}+ (-1)\\begin{vmatrix}1 &4 \\\\ 3&-1\\end{vmatrix}$\n",
        "\n",
        "$  \\begin{vmatrix}4&2\\\\-1&-2\\end{vmatrix}= 4*-2-2*-1 = -6 $\n",
        "\n",
        "$  \\begin{vmatrix}1&2\\\\3&-2\\end{vmatrix} = 4* -2-2*3 =-8 $\n",
        "\n",
        "$ \\begin{vmatrix}1&4\\\\3&-1\\end{vmatrix} = 1*-1-4*3=-13 $\n",
        "\n",
        "$ det(A_y)=2*-6-1*-8+(-1)*-13 =9$\n",
        "\n",
        "$det(A_y)=9$\n",
        "\n",
        "$det(A_z)=\\begin{bmatrix}2&1&1\\\\1&-1&4\\\\3&0&-1\\end{bmatrix}$\n",
        "$det(A_z)=2\\begin{vmatrix}-1&4\\\\0&-1\\end{vmatrix}-1\\begin{vmatrix}1&4\\\\3&-1\\end{vmatrix}+1\\begin{vmatrix}1&-1\\\\3&0\\end{vmatrix}$\n",
        "\n",
        "$ \\begin{vmatrix}-1&4\\\\0&-1\\end{vmatrix} = -1*-1-4*0 =1$\n",
        "\n",
        "$\\begin{vmatrix}1&4\\\\3&-1\\end{vmatrix} =1*-1-4*3=-13$\n",
        "\n",
        "$\\begin{vmatrix}1&-1\\\\3&0\\end{vmatrix}=1*0--1*3 = 3$\n",
        "\n",
        "$det(A_z) =2 *1-(-1)*1-13+1*3=18$\n",
        "\n",
        "$det(A_z)=18$\n",
        "\n",
        "$x =\\frac{\\det(A_x)}{\\det(A)}=\\frac{9}{9}=1$\n",
        "\n",
        "$y=\\frac{\\det(A_y)}{\\det(A)}=\\frac{9}{9}=1$\n",
        "\n",
        "$z=\\frac{\\det(A_z)}{\\det(A)}=\\frac{18}{9}=2$\n",
        "\n",
        "$ x=1,y=1,z=2$\n",
        "\n",
        "#3.\n",
        "$$\n",
        "\\begin{cases}\n",
        "x+y+z-t=2 \\\\\n",
        "x-z+2_t=6\\\\\n",
        "2_y-3_y+t=4\\\\\n",
        "3_x+y+3_z-4_t=-2\n",
        "\\end{cases}\n",
        "$$\n",
        "\n",
        "\n",
        "\n",
        "\n",
        "\n",
        "\n"
      ],
      "metadata": {
        "id": "m1qUjgBAuG01"
      }
    },
    {
      "source": [
        "import numpy as np\n",
        "\n",
        "# Define the coefficient matrix A and constant matrix B\n",
        "A = np.array([[2, 1, -1],\n",
        "              [1, -1, 2],\n",
        "              [3, 0, -2]])\n",
        "\n",
        "B = np.array([[1],\n",
        "              [4],\n",
        "              [-1]])\n",
        "\n",
        "# Calculate the determinant of A\n",
        "det_A = np.linalg.det(A)\n",
        "print(f\"Determinant of A: {det_A}\")\n",
        "\n",
        "# Calculate the determinants of the modified matrices\n",
        "A_x = A.copy()\n",
        "A_x[:, 0] = B[:, 0]\n",
        "det_A_x = np.linalg.det(A_x)\n",
        "\n",
        "A_y = A.copy()\n",
        "A_y[:, 1] = B[:, 0]\n",
        "det_A_y = np.linalg.det(A_y)\n",
        "\n",
        "A_z = A.copy()\n",
        "A_z[:, 2] = B[:, 0]\n",
        "det_A_z = np.linalg.det(A_z)\n",
        "\n",
        "print(f\"Determinant of A_x: {det_A_x}\")\n",
        "print(f\"Determinant of A_y: {det_A_y}\")\n",
        "print(f\"Determinant of A_z: {det_A_z}\")\n",
        "\n",
        "# Calculate the solutions\n",
        "x = det_A_x / det_A\n",
        "y = det_A_y / det_A\n",
        "z = det_A_z / det_A\n",
        "\n",
        "print(f\"x: {x}\")\n",
        "print(f\"y: {y}\")\n",
        "print(f\"z: {z}\")"
      ],
      "cell_type": "code",
      "metadata": {
        "id": "IbTZHMOwve3c",
        "outputId": "fe65dd4e-1f2f-4312-a147-e8e03c3723d9",
        "colab": {
          "base_uri": "https://localhost:8080/"
        }
      },
      "execution_count": 3,
      "outputs": [
        {
          "output_type": "stream",
          "name": "stdout",
          "text": [
            "Determinant of A: 9.000000000000002\n",
            "Determinant of A_x: 8.999999999999998\n",
            "Determinant of A_y: 8.999999999999998\n",
            "Determinant of A_z: 17.999999999999996\n",
            "x: 0.9999999999999996\n",
            "y: 0.9999999999999996\n",
            "z: 1.9999999999999991\n"
          ]
        }
      ]
    },
    {
      "source": [
        "##3\n",
        "import numpy as np\n",
        "\n",
        "A = np.array([[1, 1, 1, -1],\n",
        "              [1, 0, -1, 2],\n",
        "              [2, -3, 0, 1],\n",
        "              [3, 1, 3, -4]])\n",
        "\n",
        "B = np.array([[2],\n",
        "              [6],\n",
        "              [4],\n",
        "              [-2]])"
      ],
      "cell_type": "code",
      "metadata": {
        "id": "z_x4ZlsRtvlY"
      },
      "execution_count": 2,
      "outputs": []
    },
    {
      "source": [
        "det_A = np.linalg.det(A)\n",
        "print(f\"Determinant of A: {det_A}\")"
      ],
      "cell_type": "code",
      "metadata": {
        "id": "ayFKwTpSt0fV",
        "outputId": "3c8c6f56-dbd7-417b-91a1-b6dc7963a476",
        "colab": {
          "base_uri": "https://localhost:8080/"
        }
      },
      "execution_count": 3,
      "outputs": [
        {
          "output_type": "stream",
          "name": "stdout",
          "text": [
            "Determinant of A: 7.999999999999995\n"
          ]
        }
      ]
    },
    {
      "source": [
        "A_x = A.copy()\n",
        "A_x[:, 0] = B[:, 0]\n",
        "det_A_x = np.linalg.det(A_x)\n",
        "\n",
        "A_y = A.copy()\n",
        "A_y[:, 1] = B[:, 0]\n",
        "det_A_y = np.linalg.det(A_y)\n",
        "\n",
        "A_z = A.copy()\n",
        "A_z[:, 2] = B[:, 0]\n",
        "det_A_z = np.linalg.det(A_z)\n",
        "\n",
        "A_t = A.copy()\n",
        "A_t[:, 3] = B[:, 0]\n",
        "det_A_t = np.linalg.det(A_t)\n",
        "\n",
        "print(f\"Determinant of A_x: {det_A_x}\")\n",
        "print(f\"Determinant of A_y: {det_A_y}\")\n",
        "print(f\"Determinant of A_z: {det_A_z}\")\n",
        "print(f\"Determinant of A_t: {det_A_t}\")"
      ],
      "cell_type": "code",
      "metadata": {
        "id": "pQaBocOtt1JO",
        "outputId": "352c2215-7c72-4de8-d0f5-fd9adf53cb86",
        "colab": {
          "base_uri": "https://localhost:8080/"
        }
      },
      "execution_count": 4,
      "outputs": [
        {
          "output_type": "stream",
          "name": "stdout",
          "text": [
            "Determinant of A_x: 4.000000000000008\n",
            "Determinant of A_y: 8.000000000000009\n",
            "Determinant of A_z: 52.000000000000036\n",
            "Determinant of A_t: 48.00000000000001\n"
          ]
        }
      ]
    },
    {
      "source": [
        "x = det_A_x / det_A\n",
        "y = det_A_y / det_A\n",
        "z = det_A_z / det_A\n",
        "t = det_A_t / det_A\n",
        "\n",
        "print(f\"x: {x}\")\n",
        "print(f\"y: {y}\")\n",
        "print(f\"z: {z}\")\n",
        "print(f\"t: {t}\")"
      ],
      "cell_type": "code",
      "metadata": {
        "id": "4kUaDc5zt2he",
        "outputId": "0e7ec554-1de4-403a-8a2d-83daf8845ba2",
        "colab": {
          "base_uri": "https://localhost:8080/"
        }
      },
      "execution_count": 5,
      "outputs": [
        {
          "output_type": "stream",
          "name": "stdout",
          "text": [
            "x: 0.5000000000000013\n",
            "y: 1.0000000000000018\n",
            "z: 6.500000000000009\n",
            "t: 6.000000000000005\n"
          ]
        }
      ]
    }
  ],
  "metadata": {
    "kernelspec": {
      "display_name": "Python 3",
      "language": "python",
      "name": "python3"
    },
    "language_info": {
      "codemirror_mode": {
        "name": "ipython",
        "version": 3
      },
      "file_extension": ".py",
      "mimetype": "text/x-python",
      "name": "python",
      "nbconvert_exporter": "python",
      "pygments_lexer": "ipython3",
      "version": "3.11.9"
    },
    "colab": {
      "provenance": [],
      "include_colab_link": true
    }
  },
  "nbformat": 4,
  "nbformat_minor": 0
}